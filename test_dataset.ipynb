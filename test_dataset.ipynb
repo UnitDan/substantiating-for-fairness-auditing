{
 "cells": [
  {
   "cell_type": "code",
   "execution_count": 1,
   "metadata": {},
   "outputs": [],
   "source": [
    "from train_dnn import get_data\n",
    "from data import adult, compas, bank, german, loans_default, census\n",
    "from models.trainer import STDTrainer, SenSeiTrainer\n",
    "from models.model import MLP\n",
    "from seeker.random import RandomSelectPairSeeker, RandomSelectSeeker, RangeGenSeeker, DistributionGenSeeker\n",
    "from seeker.gradiant_based import WhiteboxSeeker, BlackboxSeeker, FoolSeeker\n",
    "from distances.normalized_mahalanobis_distances import ProtectedSEDistances\n",
    "from distances.sensitive_subspace_distances import LogisticRegSensitiveSubspace\n",
    "from distances.binary_distances import BinaryDistance\n",
    "from inFairness.distances import SquaredEuclideanDistance\n",
    "from utils import UnfairMetric, load_model\n",
    "import torch\n",
    "import random\n",
    "\n",
    "torch.set_default_dtype(torch.float64)\n",
    "\n",
    "%load_ext autoreload\n",
    "%autoreload 2"
   ]
  },
  {
   "cell_type": "code",
   "execution_count": 2,
   "metadata": {},
   "outputs": [],
   "source": [
    "load = True\n",
    "norm = False\n",
    "\n",
    "data_name = 'census'\n",
    "use_sensitive_attr = True\n",
    "trainer_name = 'std'\n",
    "# trainer_name = 'sensei'\n",
    "rho=0.1\n",
    "note = '_rho={rho}' if trainer_name == 'sensei' else ''\n",
    "device = 'cuda:1'\n",
    "sensitive_vars = ['sex_Male']\n",
    "\n",
    "data_choices = {\n",
    "    'adult': adult,\n",
    "    'german': german,\n",
    "    'loans_default': loans_default,\n",
    "    'census': census\n",
    "}\n",
    "data = data_choices[data_name]\n",
    "\n",
    "dataset, train_dl, test_dl = get_data(data, 0, sensitive_vars)\n",
    "dataset.use_sensitive_attr = use_sensitive_attr\n",
    "feature_dim = dataset.dim_feature()\n",
    "output_dim = 2\n",
    "\n",
    "data_gen = data.Generator(use_sensitive_attr, sensitive_vars, device)"
   ]
  },
  {
   "cell_type": "code",
   "execution_count": 3,
   "metadata": {},
   "outputs": [],
   "source": [
    "# fit distances for LRTrainer\n",
    "if trainer_name == 'sensei':\n",
    "    train_distance_x = LogisticRegSensitiveSubspace()\n",
    "    train_distance_y = SquaredEuclideanDistance()\n",
    "\n",
    "    dataset.use_sensitive_attr = True\n",
    "    all_X_train = []\n",
    "    for x, _ in train_dl:\n",
    "        all_X_train.append(x)\n",
    "    all_X_train = torch.concat(all_X_train, dim=0)\n",
    "    dataset.use_sensitive_attr = use_sensitive_attr\n",
    "\n",
    "    if use_sensitive_attr:\n",
    "        train_distance_x.fit(all_X_train, data_gen=data_gen, sensitive_idxs=dataset.sensitive_idxs)\n",
    "    else:\n",
    "        sensitive_ = all_X_train[:, dataset.sensitive_idxs]\n",
    "        no_sensitive = all_X_train[:, [i for i in range(all_X_train.shape[1]) if i not in dataset.sensitive_idxs]]\n",
    "        train_distance_x.fit(no_sensitive, data_gen=data_gen, data_SensitiveAttrs=sensitive_)\n",
    "    train_distance_y.fit(output_dim)\n",
    "    train_distance_x.to(device)\n",
    "    train_distance_y.to(device)"
   ]
  },
  {
   "cell_type": "code",
   "execution_count": 4,
   "metadata": {},
   "outputs": [],
   "source": [
    "model = MLP(input_size=feature_dim, output_size=output_dim, data_gen=data_gen, n_layers=4, norm=norm)\n",
    "\n",
    "if load:\n",
    "    load_model(model, data_name, trainer_name, use_sensitive_attr=use_sensitive_attr, \\\n",
    "            sensitive_vars=sensitive_vars, id=0, note=note)\n",
    "    model = model.to(device)\n",
    "else:\n",
    "    if trainer_name == 'std':\n",
    "        trainer = STDTrainer(model, train_dl, test_dl, device=device, epochs=100, lr=1e-4)\n",
    "    elif trainer_name == 'sensei':\n",
    "        trainer = SenSeiTrainer(model, train_dl, test_dl, device=device, epochs=1000, lr=1e-3, distance_x=train_distance_x, distance_y=train_distance_y, rho=rho)\n",
    "    trainer.train()"
   ]
  },
  {
   "cell_type": "code",
   "execution_count": 5,
   "metadata": {},
   "outputs": [
    {
     "name": "stdout",
     "output_type": "stream",
     "text": [
      "tensor(0.9312) tensor(0.9273)\n"
     ]
    }
   ],
   "source": [
    "from models.metrics import accuracy\n",
    "print(accuracy(model, train_dl), accuracy(model, test_dl))"
   ]
  },
  {
   "cell_type": "code",
   "execution_count": 6,
   "metadata": {},
   "outputs": [
    {
     "name": "stdout",
     "output_type": "stream",
     "text": [
      "unfair ratio: 0.028863879603392754 (6122/212099)\n"
     ]
    }
   ],
   "source": [
    "model.to(device)\n",
    "if use_sensitive_attr:\n",
    "    all_X = dataset.data.to(device)\n",
    "    all_X_conter = all_X.clone()\n",
    "    all_X_conter[:, dataset.sensitive_idxs[0]] = 1 - all_X_conter[:, dataset.sensitive_idxs[0]]\n",
    "\n",
    "    all_pred = model.get_prediction(all_X)\n",
    "    all_pred_conter = model.get_prediction(all_X_conter)\n",
    "\n",
    "    d_len = len(all_pred)\n",
    "    n_unfair = (all_pred != all_pred_conter).sum().item()\n",
    "    print(f'unfair ratio: {n_unfair/d_len} ({n_unfair}/{d_len})')"
   ]
  },
  {
   "cell_type": "code",
   "execution_count": null,
   "metadata": {},
   "outputs": [],
   "source": []
  },
  {
   "cell_type": "code",
   "execution_count": null,
   "metadata": {},
   "outputs": [],
   "source": []
  },
  {
   "cell_type": "code",
   "execution_count": null,
   "metadata": {},
   "outputs": [],
   "source": []
  },
  {
   "cell_type": "code",
   "execution_count": null,
   "metadata": {},
   "outputs": [],
   "source": []
  },
  {
   "cell_type": "code",
   "execution_count": 7,
   "metadata": {},
   "outputs": [],
   "source": [
    "data_gen.to('cpu')\n",
    "distance_x_Causal = ProtectedSEDistances()\n",
    "distance_x_LR = LogisticRegSensitiveSubspace()\n",
    "distance_y = BinaryDistance()\n",
    "\n",
    "if use_sensitive_attr:\n",
    "    distance_x_Causal.fit(num_dims=dataset.dim_feature(), data_gen=data_gen, sensitive_idx=dataset.sensitive_idxs)\n",
    "    chosen_dx = distance_x_Causal\n",
    "else:\n",
    "    sensitive_ = dataset.data[:, dataset.sensitive_idxs].to('cpu')\n",
    "    distance_x_LR.fit(dataset.get_all_data().to('cpu'), data_gen=data_gen, data_SensitiveAttrs=sensitive_)\n",
    "    chosen_dx = distance_x_LR"
   ]
  },
  {
   "cell_type": "code",
   "execution_count": 8,
   "metadata": {},
   "outputs": [],
   "source": [
    "# x = torch.zeros(chosen_dx.num_dims)\n",
    "# pert = 10*torch.diag(torch.ones_like(x))\n",
    "# g = torch.zeros_like(x)\n",
    "# for i in range(g.shape[0]):\n",
    "#     g[i] = chosen_dx(x, x+pert[i])\n",
    "# epsilon = (1/torch.min(g[g!=0])).item()\n",
    "# print(g, epsilon)"
   ]
  },
  {
   "cell_type": "code",
   "execution_count": 9,
   "metadata": {},
   "outputs": [],
   "source": [
    "epsilon = 1e8\n",
    "unfair_metric = UnfairMetric(dx=chosen_dx, dy=distance_y, epsilon=epsilon)\n",
    "model = model.to('cpu')"
   ]
  },
  {
   "cell_type": "code",
   "execution_count": 10,
   "metadata": {},
   "outputs": [],
   "source": [
    "def show_result(result):\n",
    "    pair, n_query = result[0], result[1]\n",
    "    if len(result) == 3:\n",
    "        print(f'n_iters = {result[2]}')\n",
    "    print(n_query)\n",
    "    # if pair != None:\n",
    "    #     display(data_gen.feature_dataframe(data = pair), n_query)\n",
    "    # else:\n",
    "    #     display('not found')"
   ]
  },
  {
   "cell_type": "code",
   "execution_count": 11,
   "metadata": {},
   "outputs": [],
   "source": [
    "# random.seed(422)\n",
    "# torch.manual_seed(422)\n",
    "\n",
    "# select_seeker = RandomSelectSeeker(model=model, unfair_metric=unfair_metric, data=dataset.get_all_data(), data_gen=data_gen)\n",
    "# for _ in range(3):\n",
    "#     show_result(select_seeker.seek(max_query=1e6))"
   ]
  },
  {
   "cell_type": "code",
   "execution_count": 12,
   "metadata": {},
   "outputs": [],
   "source": [
    "# random.seed(422)\n",
    "# torch.manual_seed(422)\n",
    "\n",
    "# distribution_seeker = DistributionGenSeeker(model=model, unfair_metric=unfair_metric, data_gen=data_gen)\n",
    "# for _ in range(3):\n",
    "#     show_result(distribution_seeker.seek(max_query=1e6))"
   ]
  },
  {
   "cell_type": "code",
   "execution_count": 13,
   "metadata": {},
   "outputs": [],
   "source": [
    "# random.seed(422)\n",
    "# torch.manual_seed(422)\n",
    "\n",
    "# range_seeker = RangeGenSeeker(model=model, unfair_metric=unfair_metric, data_gen=data_gen)\n",
    "# for _ in range(3):\n",
    "#     show_result(range_seeker.seek(max_query=1e5))"
   ]
  },
  {
   "cell_type": "code",
   "execution_count": 14,
   "metadata": {},
   "outputs": [],
   "source": [
    "# random.seed(42)\n",
    "# torch.manual_seed(42)\n",
    "\n",
    "# test_seeker = WhiteboxSeeker(model=model, unfair_metric=unfair_metric, data_gen=data_gen)\n",
    "# for i in range(3):\n",
    "#     display(f'try: {i}')\n",
    "#     show_result(test_seeker.seek(origin_lr=0.01, max_query=1e6, lamb=1))"
   ]
  },
  {
   "cell_type": "code",
   "execution_count": 15,
   "metadata": {},
   "outputs": [
    {
     "data": {
      "text/plain": [
       "'try: 0'"
      ]
     },
     "metadata": {},
     "output_type": "display_data"
    },
    {
     "name": "stdout",
     "output_type": "stream",
     "text": [
      "100002\n"
     ]
    },
    {
     "data": {
      "text/plain": [
       "'try: 1'"
      ]
     },
     "metadata": {},
     "output_type": "display_data"
    },
    {
     "name": "stdout",
     "output_type": "stream",
     "text": [
      "100027\n"
     ]
    },
    {
     "data": {
      "text/plain": [
       "'try: 2'"
      ]
     },
     "metadata": {},
     "output_type": "display_data"
    },
    {
     "name": "stdout",
     "output_type": "stream",
     "text": [
      "100105\n"
     ]
    },
    {
     "data": {
      "text/plain": [
       "'try: 3'"
      ]
     },
     "metadata": {},
     "output_type": "display_data"
    },
    {
     "name": "stdout",
     "output_type": "stream",
     "text": [
      "100002\n"
     ]
    },
    {
     "data": {
      "text/plain": [
       "'try: 4'"
      ]
     },
     "metadata": {},
     "output_type": "display_data"
    },
    {
     "name": "stdout",
     "output_type": "stream",
     "text": [
      "100027\n"
     ]
    },
    {
     "data": {
      "text/plain": [
       "'try: 5'"
      ]
     },
     "metadata": {},
     "output_type": "display_data"
    },
    {
     "name": "stdout",
     "output_type": "stream",
     "text": [
      "100105\n"
     ]
    },
    {
     "data": {
      "text/plain": [
       "'try: 6'"
      ]
     },
     "metadata": {},
     "output_type": "display_data"
    },
    {
     "name": "stdout",
     "output_type": "stream",
     "text": [
      "100105\n"
     ]
    },
    {
     "data": {
      "text/plain": [
       "'try: 7'"
      ]
     },
     "metadata": {},
     "output_type": "display_data"
    },
    {
     "name": "stdout",
     "output_type": "stream",
     "text": [
      "100105\n"
     ]
    },
    {
     "data": {
      "text/plain": [
       "'try: 8'"
      ]
     },
     "metadata": {},
     "output_type": "display_data"
    },
    {
     "name": "stdout",
     "output_type": "stream",
     "text": [
      "1440\n"
     ]
    },
    {
     "data": {
      "text/plain": [
       "'try: 9'"
      ]
     },
     "metadata": {},
     "output_type": "display_data"
    },
    {
     "name": "stdout",
     "output_type": "stream",
     "text": [
      "100001\n"
     ]
    },
    {
     "data": {
      "text/plain": [
       "'try: 10'"
      ]
     },
     "metadata": {},
     "output_type": "display_data"
    },
    {
     "name": "stdout",
     "output_type": "stream",
     "text": [
      "100008\n"
     ]
    },
    {
     "data": {
      "text/plain": [
       "'try: 11'"
      ]
     },
     "metadata": {},
     "output_type": "display_data"
    },
    {
     "name": "stdout",
     "output_type": "stream",
     "text": [
      "100027\n"
     ]
    },
    {
     "data": {
      "text/plain": [
       "'try: 12'"
      ]
     },
     "metadata": {},
     "output_type": "display_data"
    },
    {
     "ename": "KeyboardInterrupt",
     "evalue": "",
     "output_type": "error",
     "traceback": [
      "\u001b[0;31m---------------------------------------------------------------------------\u001b[0m",
      "\u001b[0;31mKeyboardInterrupt\u001b[0m                         Traceback (most recent call last)",
      "Cell \u001b[0;32mIn[15], line 8\u001b[0m\n\u001b[1;32m      6\u001b[0m \u001b[38;5;28;01mfor\u001b[39;00m i \u001b[38;5;129;01min\u001b[39;00m \u001b[38;5;28mrange\u001b[39m(\u001b[38;5;241m30\u001b[39m):\n\u001b[1;32m      7\u001b[0m     display(\u001b[38;5;124mf\u001b[39m\u001b[38;5;124m'\u001b[39m\u001b[38;5;124mtry: \u001b[39m\u001b[38;5;132;01m{\u001b[39;00mi\u001b[38;5;132;01m}\u001b[39;00m\u001b[38;5;124m'\u001b[39m)\n\u001b[0;32m----> 8\u001b[0m     show_result(\u001b[43mtest_seeker\u001b[49m\u001b[38;5;241;43m.\u001b[39;49m\u001b[43mseek\u001b[49m\u001b[43m(\u001b[49m\u001b[43morigin_lr\u001b[49m\u001b[38;5;241;43m=\u001b[39;49m\u001b[38;5;241;43m0.1\u001b[39;49m\u001b[43m,\u001b[49m\u001b[43m \u001b[49m\u001b[43mmax_query\u001b[49m\u001b[38;5;241;43m=\u001b[39;49m\u001b[38;5;241;43m1e5\u001b[39;49m\u001b[43m,\u001b[49m\u001b[43m \u001b[49m\u001b[43mlamb\u001b[49m\u001b[38;5;241;43m=\u001b[39;49m\u001b[38;5;241;43m1\u001b[39;49m\u001b[43m)\u001b[49m)\n",
      "File \u001b[0;32m/data/liuyuanhao/projects/Unfairness_prove/seeker/gradiant_based.py:177\u001b[0m, in \u001b[0;36mGradiantBasedSeeker.seek\u001b[0;34m(self, lamb, origin_lr, max_query)\u001b[0m\n\u001b[1;32m    174\u001b[0m     \u001b[38;5;28;01mreturn\u001b[39;00m \u001b[38;5;28;01mNone\u001b[39;00m, \u001b[38;5;28mself\u001b[39m\u001b[38;5;241m.\u001b[39mn_query\n\u001b[1;32m    176\u001b[0m \u001b[38;5;66;03m# stage 1: fine a x0, which is most likely to have a adversarial\u001b[39;00m\n\u001b[0;32m--> 177\u001b[0m delta_next \u001b[38;5;241m=\u001b[39m \u001b[38;5;28;43mself\u001b[39;49m\u001b[38;5;241;43m.\u001b[39;49m\u001b[43mstep1\u001b[49m\u001b[43m(\u001b[49m\u001b[43mx\u001b[49m\u001b[38;5;241;43m=\u001b[39;49m\u001b[43mx0\u001b[49m\u001b[43m,\u001b[49m\u001b[43m \u001b[49m\u001b[43mdelta\u001b[49m\u001b[38;5;241;43m=\u001b[39;49m\u001b[43mdelta_t\u001b[49m\u001b[43m,\u001b[49m\u001b[43m \u001b[49m\u001b[43mlr\u001b[49m\u001b[38;5;241;43m=\u001b[39;49m\u001b[43mlr\u001b[49m\u001b[43m,\u001b[49m\u001b[43m \u001b[49m\u001b[43mlamb\u001b[49m\u001b[38;5;241;43m=\u001b[39;49m\u001b[43mlamb\u001b[49m\u001b[43m)\u001b[49m\n\u001b[1;32m    178\u001b[0m \u001b[38;5;66;03m# print('length of the perturbation of delta:', torch.norm(delta_next - delta_t, p=2), sep='\\n')\u001b[39;00m\n\u001b[1;32m    179\u001b[0m x_next \u001b[38;5;241m=\u001b[39m \u001b[38;5;28mself\u001b[39m\u001b[38;5;241m.\u001b[39m_norm(torch\u001b[38;5;241m.\u001b[39mround(\u001b[38;5;28mself\u001b[39m\u001b[38;5;241m.\u001b[39m_recover(x0\u001b[38;5;241m+\u001b[39mdelta_next)))\n",
      "File \u001b[0;32m/data/liuyuanhao/projects/Unfairness_prove/seeker/gradiant_based.py:70\u001b[0m, in \u001b[0;36mGradiantBasedSeeker.step1\u001b[0;34m(self, x, delta, lr, lamb)\u001b[0m\n\u001b[1;32m     69\u001b[0m \u001b[38;5;28;01mdef\u001b[39;00m \u001b[38;5;21mstep1\u001b[39m(\u001b[38;5;28mself\u001b[39m, x, delta, lr, lamb):\n\u001b[0;32m---> 70\u001b[0m     g \u001b[38;5;241m=\u001b[39m \u001b[38;5;28;43mself\u001b[39;49m\u001b[38;5;241;43m.\u001b[39;49m\u001b[43m_gradient1\u001b[49m\u001b[43m(\u001b[49m\u001b[43mx\u001b[49m\u001b[43m,\u001b[49m\u001b[43m \u001b[49m\u001b[43mdelta\u001b[49m\u001b[43m,\u001b[49m\u001b[43m \u001b[49m\u001b[43mlamb\u001b[49m\u001b[43m)\u001b[49m\n\u001b[1;32m     71\u001b[0m     \u001b[38;5;66;03m# print('------------g----------------')\u001b[39;00m\n\u001b[1;32m     72\u001b[0m     \u001b[38;5;66;03m# print(g)\u001b[39;00m\n\u001b[1;32m     73\u001b[0m     \u001b[38;5;66;03m# print('-----------------------------')\u001b[39;00m\n\u001b[1;32m     74\u001b[0m     g \u001b[38;5;241m=\u001b[39m g \u001b[38;5;241m/\u001b[39m torch\u001b[38;5;241m.\u001b[39mnorm(g)\n",
      "File \u001b[0;32m/data/liuyuanhao/projects/Unfairness_prove/seeker/gradiant_based.py:255\u001b[0m, in \u001b[0;36mBlackboxSeeker._gradient1\u001b[0;34m(self, x, delta, lamb)\u001b[0m\n\u001b[1;32m    252\u001b[0m     pert_delta \u001b[38;5;241m=\u001b[39m [delta \u001b[38;5;241m+\u001b[39m pert, delta \u001b[38;5;241m-\u001b[39m pert]\n\u001b[1;32m    253\u001b[0m     \u001b[38;5;66;03m# print(self._recover(x + pert_delta[0]))\u001b[39;00m\n\u001b[1;32m    254\u001b[0m     \u001b[38;5;66;03m# print(self._recover(x + pert_delta[1]))\u001b[39;00m\n\u001b[0;32m--> 255\u001b[0m     g[i] \u001b[38;5;241m=\u001b[39m (\u001b[43mloss\u001b[49m\u001b[43m(\u001b[49m\u001b[43mx\u001b[49m\u001b[43m,\u001b[49m\u001b[43m \u001b[49m\u001b[43mpert_delta\u001b[49m\u001b[43m[\u001b[49m\u001b[38;5;241;43m0\u001b[39;49m\u001b[43m]\u001b[49m\u001b[43m,\u001b[49m\u001b[43m \u001b[49m\u001b[43mlamb\u001b[49m\u001b[43m)\u001b[49m \\\n\u001b[1;32m    256\u001b[0m           \u001b[38;5;241m-\u001b[39m loss(x, pert_delta[\u001b[38;5;241m1\u001b[39m], lamb))\u001b[38;5;241m/\u001b[39m\u001b[38;5;241m2\u001b[39m\n\u001b[1;32m    257\u001b[0m     \u001b[38;5;66;03m# print(loss(x, pert_delta[0], lamb))\u001b[39;00m\n\u001b[1;32m    258\u001b[0m     \u001b[38;5;66;03m# print(loss(x, pert_delta[1], lamb))\u001b[39;00m\n\u001b[1;32m    259\u001b[0m     \u001b[38;5;66;03m# input()\u001b[39;00m\n\u001b[1;32m    260\u001b[0m \u001b[38;5;28mself\u001b[39m\u001b[38;5;241m.\u001b[39mcur_delta \u001b[38;5;241m=\u001b[39m delta\u001b[38;5;241m.\u001b[39mclone()\n",
      "File \u001b[0;32m/data/liuyuanhao/projects/Unfairness_prove/seeker/gradiant_based.py:240\u001b[0m, in \u001b[0;36mBlackboxSeeker._gradient1.<locals>.<lambda>\u001b[0;34m(x, delta, lamb)\u001b[0m\n\u001b[1;32m    239\u001b[0m \u001b[38;5;28;01mdef\u001b[39;00m \u001b[38;5;21m_gradient1\u001b[39m(\u001b[38;5;28mself\u001b[39m, x, delta, lamb):\n\u001b[0;32m--> 240\u001b[0m     loss \u001b[38;5;241m=\u001b[39m \u001b[38;5;28;01mlambda\u001b[39;00m x, delta, lamb: \u001b[38;5;28;43mself\u001b[39;49m\u001b[38;5;241;43m.\u001b[39;49m\u001b[43mloss\u001b[49m\u001b[43m(\u001b[49m\u001b[43mx\u001b[49m\u001b[38;5;241;43m+\u001b[39;49m\u001b[43mdelta\u001b[49m\u001b[43m)\u001b[49m \u001b[38;5;241m+\u001b[39m lamb \u001b[38;5;241m*\u001b[39m \u001b[38;5;28mself\u001b[39m\u001b[38;5;241m.\u001b[39mreg(delta)\n\u001b[1;32m    242\u001b[0m     delta\u001b[38;5;241m.\u001b[39mrequires_grad\u001b[38;5;241m=\u001b[39m\u001b[38;5;28;01mTrue\u001b[39;00m\n\u001b[1;32m    243\u001b[0m     \u001b[38;5;28;01mif\u001b[39;00m \u001b[38;5;28mself\u001b[39m\u001b[38;5;241m.\u001b[39mcur_delta\u001b[38;5;241m.\u001b[39mshape[\u001b[38;5;241m0\u001b[39m] \u001b[38;5;241m!=\u001b[39m \u001b[38;5;241m0\u001b[39m \u001b[38;5;129;01mand\u001b[39;00m (torch\u001b[38;5;241m.\u001b[39mall(\u001b[38;5;28mself\u001b[39m\u001b[38;5;241m.\u001b[39mcur_delta \u001b[38;5;241m==\u001b[39m delta) \u001b[38;5;129;01mor\u001b[39;00m \u001b[38;5;28mself\u001b[39m\u001b[38;5;241m.\u001b[39measy):\n\u001b[1;32m    244\u001b[0m         \u001b[38;5;66;03m# print('old g')\u001b[39;00m\n",
      "File \u001b[0;32m/data/liuyuanhao/projects/Unfairness_prove/seeker/gradiant_based.py:59\u001b[0m, in \u001b[0;36mGradiantBasedSeeker.loss\u001b[0;34m(self, x)\u001b[0m\n\u001b[1;32m     57\u001b[0m \u001b[38;5;28;01mif\u001b[39;00m \u001b[38;5;28mlen\u001b[39m(x\u001b[38;5;241m.\u001b[39mshape) \u001b[38;5;241m==\u001b[39m \u001b[38;5;241m1\u001b[39m:\n\u001b[1;32m     58\u001b[0m     x \u001b[38;5;241m=\u001b[39m x\u001b[38;5;241m.\u001b[39munsqueeze(\u001b[38;5;241m0\u001b[39m)\n\u001b[0;32m---> 59\u001b[0m y \u001b[38;5;241m=\u001b[39m \u001b[38;5;28;43mself\u001b[39;49m\u001b[38;5;241;43m.\u001b[39;49m\u001b[43m_query_logits\u001b[49m\u001b[43m(\u001b[49m\u001b[43mx\u001b[49m\u001b[43m)\u001b[49m[\u001b[38;5;241m0\u001b[39m]\n\u001b[1;32m     60\u001b[0m \u001b[38;5;28;01mreturn\u001b[39;00m y[\u001b[38;5;28mself\u001b[39m\u001b[38;5;241m.\u001b[39morigin_label] \u001b[38;5;241m-\u001b[39m y[\u001b[38;5;28mself\u001b[39m\u001b[38;5;241m.\u001b[39mmis_label]\n",
      "File \u001b[0;32m/data/liuyuanhao/projects/Unfairness_prove/seeker/gradiant_based.py:36\u001b[0m, in \u001b[0;36mGradiantBasedSeeker._query_logits\u001b[0;34m(self, x)\u001b[0m\n\u001b[1;32m     34\u001b[0m     \u001b[38;5;28mself\u001b[39m\u001b[38;5;241m.\u001b[39mn_query \u001b[38;5;241m+\u001b[39m\u001b[38;5;241m=\u001b[39m x\u001b[38;5;241m.\u001b[39mshape[\u001b[38;5;241m0\u001b[39m]\n\u001b[1;32m     35\u001b[0m x \u001b[38;5;241m=\u001b[39m \u001b[38;5;28mself\u001b[39m\u001b[38;5;241m.\u001b[39m_recover(x)\n\u001b[0;32m---> 36\u001b[0m \u001b[38;5;28;01mreturn\u001b[39;00m \u001b[38;5;28;43mself\u001b[39;49m\u001b[38;5;241;43m.\u001b[39;49m\u001b[43mmodel\u001b[49m\u001b[43m(\u001b[49m\u001b[43mx\u001b[49m\u001b[43m)\u001b[49m\n",
      "File \u001b[0;32m/data/liuyuanhao/anaconda3/envs/torch1.9/lib/python3.9/site-packages/torch/nn/modules/module.py:1501\u001b[0m, in \u001b[0;36mModule._call_impl\u001b[0;34m(self, *args, **kwargs)\u001b[0m\n\u001b[1;32m   1496\u001b[0m \u001b[38;5;66;03m# If we don't have any hooks, we want to skip the rest of the logic in\u001b[39;00m\n\u001b[1;32m   1497\u001b[0m \u001b[38;5;66;03m# this function, and just call forward.\u001b[39;00m\n\u001b[1;32m   1498\u001b[0m \u001b[38;5;28;01mif\u001b[39;00m \u001b[38;5;129;01mnot\u001b[39;00m (\u001b[38;5;28mself\u001b[39m\u001b[38;5;241m.\u001b[39m_backward_hooks \u001b[38;5;129;01mor\u001b[39;00m \u001b[38;5;28mself\u001b[39m\u001b[38;5;241m.\u001b[39m_backward_pre_hooks \u001b[38;5;129;01mor\u001b[39;00m \u001b[38;5;28mself\u001b[39m\u001b[38;5;241m.\u001b[39m_forward_hooks \u001b[38;5;129;01mor\u001b[39;00m \u001b[38;5;28mself\u001b[39m\u001b[38;5;241m.\u001b[39m_forward_pre_hooks\n\u001b[1;32m   1499\u001b[0m         \u001b[38;5;129;01mor\u001b[39;00m _global_backward_pre_hooks \u001b[38;5;129;01mor\u001b[39;00m _global_backward_hooks\n\u001b[1;32m   1500\u001b[0m         \u001b[38;5;129;01mor\u001b[39;00m _global_forward_hooks \u001b[38;5;129;01mor\u001b[39;00m _global_forward_pre_hooks):\n\u001b[0;32m-> 1501\u001b[0m     \u001b[38;5;28;01mreturn\u001b[39;00m \u001b[43mforward_call\u001b[49m\u001b[43m(\u001b[49m\u001b[38;5;241;43m*\u001b[39;49m\u001b[43margs\u001b[49m\u001b[43m,\u001b[49m\u001b[43m \u001b[49m\u001b[38;5;241;43m*\u001b[39;49m\u001b[38;5;241;43m*\u001b[39;49m\u001b[43mkwargs\u001b[49m\u001b[43m)\u001b[49m\n\u001b[1;32m   1502\u001b[0m \u001b[38;5;66;03m# Do not call functions when jit is used\u001b[39;00m\n\u001b[1;32m   1503\u001b[0m full_backward_hooks, non_full_backward_hooks \u001b[38;5;241m=\u001b[39m [], []\n",
      "File \u001b[0;32m/data/liuyuanhao/projects/Unfairness_prove/models/model.py:17\u001b[0m, in \u001b[0;36mMLP.forward\u001b[0;34m(self, x)\u001b[0m\n\u001b[1;32m     16\u001b[0m \u001b[38;5;28;01mdef\u001b[39;00m \u001b[38;5;21mforward\u001b[39m(\u001b[38;5;28mself\u001b[39m, x):\n\u001b[0;32m---> 17\u001b[0m     \u001b[38;5;28;01mif\u001b[39;00m \u001b[38;5;28;43mself\u001b[39;49m\u001b[38;5;241;43m.\u001b[39;49m\u001b[43mnorm\u001b[49m:\n\u001b[1;32m     18\u001b[0m         x \u001b[38;5;241m=\u001b[39m \u001b[38;5;28mself\u001b[39m\u001b[38;5;241m.\u001b[39mdata_gen\u001b[38;5;241m.\u001b[39mnorm(x)\n\u001b[1;32m     19\u001b[0m     \u001b[38;5;28;01mfor\u001b[39;00m layer \u001b[38;5;129;01min\u001b[39;00m \u001b[38;5;28mself\u001b[39m\u001b[38;5;241m.\u001b[39mfc:\n",
      "\u001b[0;31mKeyboardInterrupt\u001b[0m: "
     ]
    }
   ],
   "source": [
    "random.seed(422)\n",
    "torch.manual_seed(422)\n",
    "\n",
    "test_seeker = BlackboxSeeker(model=model, unfair_metric=unfair_metric, data_gen=data_gen, g_range=1e-3, easy=False)\n",
    "# show_result(white_seeker.seek())\n",
    "for i in range(30):\n",
    "    display(f'try: {i}')\n",
    "    show_result(test_seeker.seek(origin_lr=0.1, max_query=1e5, lamb=1))"
   ]
  },
  {
   "cell_type": "code",
   "execution_count": null,
   "metadata": {},
   "outputs": [
    {
     "data": {
      "text/plain": [
       "'try: 0'"
      ]
     },
     "metadata": {},
     "output_type": "display_data"
    },
    {
     "name": "stdout",
     "output_type": "stream",
     "text": [
      "190\n"
     ]
    },
    {
     "data": {
      "text/plain": [
       "'try: 1'"
      ]
     },
     "metadata": {},
     "output_type": "display_data"
    },
    {
     "name": "stdout",
     "output_type": "stream",
     "text": [
      "185\n"
     ]
    },
    {
     "data": {
      "text/plain": [
       "'try: 2'"
      ]
     },
     "metadata": {},
     "output_type": "display_data"
    },
    {
     "name": "stdout",
     "output_type": "stream",
     "text": [
      "194\n"
     ]
    }
   ],
   "source": [
    "random.seed(422)\n",
    "torch.manual_seed(422)\n",
    "\n",
    "test_seeker = BlackboxSeeker(model=model, unfair_metric=unfair_metric, data_gen=data_gen, easy=True)\n",
    "# show_result(white_seeker.seek())\n",
    "for i in range(3):\n",
    "    display(f'try: {i}')\n",
    "    show_result(test_seeker.seek(origin_lr=0.1, max_query=1e5, lamb=1))"
   ]
  },
  {
   "cell_type": "code",
   "execution_count": null,
   "metadata": {},
   "outputs": [],
   "source": [
    "# random.seed(422)\n",
    "# torch.manual_seed(422)\n",
    "\n",
    "# test_seeker = FoolSeeker(model=model, unfair_metric=unfair_metric, data_gen=data_gen, easy=True)\n",
    "\n",
    "# for i in range(3):\n",
    "#     display(f'try: {i}')\n",
    "#     show_result(test_seeker.seek(origin_lr=1, max_query=1e6, lamb=1))"
   ]
  },
  {
   "cell_type": "code",
   "execution_count": null,
   "metadata": {},
   "outputs": [],
   "source": []
  }
 ],
 "metadata": {
  "kernelspec": {
   "display_name": "torch1.9",
   "language": "python",
   "name": "python3"
  },
  "language_info": {
   "codemirror_mode": {
    "name": "ipython",
    "version": 3
   },
   "file_extension": ".py",
   "mimetype": "text/x-python",
   "name": "python",
   "nbconvert_exporter": "python",
   "pygments_lexer": "ipython3",
   "version": "3.9.18"
  }
 },
 "nbformat": 4,
 "nbformat_minor": 2
}
