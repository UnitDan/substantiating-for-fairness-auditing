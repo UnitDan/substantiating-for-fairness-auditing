{
 "cells": [
  {
   "cell_type": "code",
   "execution_count": null,
   "metadata": {},
   "outputs": [],
   "source": [
    "import torch\n",
    "import random\n",
    "from torch.utils.data import SubsetRandomSampler, DataLoader\n",
    "from data.data_utils import ProtectedDataset\n",
    "from data import adult\n",
    "from models.trainer import RandomForestTrainer\n",
    "from models.model import RandomForest\n",
    "from distances.normalized_mahalanobis_distances import SquaredEuclideanDistance, ProtectedSEDistances\n",
    "from distances.sensitive_subspace_distances import LogisticRegSensitiveSubspace\n",
    "from distances.binary_distances import BinaryDistance\n",
    "\n",
    "import matplotlib.pyplot as plt\n",
    "from sklearn.tree import plot_tree\n",
    "\n",
    "from IPython.display import display\n",
    "import matplotlib.pyplot as plt\n",
    "\n",
    "from data.adult import Generator\n",
    "from utils import UnfairMetric\n",
    "from seeker.gradiant_based import BlackboxSeeker, FoolSeeker\n",
    "\n",
    "%load_ext autoreload\n",
    "%autoreload 2\n",
    "\n",
    "\n",
    "def get_data(data, rand_seed, protected_vars):\n",
    "    torch.manual_seed(rand_seed)\n",
    "    random.seed(rand_seed)\n",
    "\n",
    "    X, y, protected_idxs = data.load_data(protected_vars=protected_vars)\n",
    "\n",
    "    # randomly split into train/test splits\n",
    "    total_samples = len(X)\n",
    "    train_size = int(total_samples * 0.8)\n",
    "\n",
    "    indices = list(range(total_samples))\n",
    "    random.shuffle(indices)\n",
    "    train_indices = indices[:train_size]\n",
    "    test_indices = indices[train_size:]\n",
    "    train_sampler = SubsetRandomSampler(train_indices)\n",
    "    test_sampler = SubsetRandomSampler(test_indices)\n",
    "\n",
    "    dataset = ProtectedDataset(X, y, protected_idxs)\n",
    "    train_loader = DataLoader(dataset, batch_size=64, sampler=train_sampler)\n",
    "    test_loader = DataLoader(dataset, batch_size=1000, sampler=test_sampler)\n",
    "\n",
    "    return dataset, train_loader, test_loader"
   ]
  },
  {
   "cell_type": "code",
   "execution_count": null,
   "metadata": {},
   "outputs": [
    {
     "name": "stdout",
     "output_type": "stream",
     "text": [
      "Train Accuracy: 0.8673466444015503\n",
      "Test Accuracy: 0.8564953207969666\n"
     ]
    }
   ],
   "source": [
    "protected_vars = ['race_White']\n",
    "rand_seed = 0\n",
    "use_protected_attr = True\n",
    "\n",
    "dataset, train_dl, test_dl = get_data(adult, 0, protected_vars)\n",
    "dataset.use_protected_attr = use_protected_attr\n",
    "feature_dim = dataset.dim_feature()\n",
    "output_dim = 2\n",
    "\n",
    "model = RandomForest(max_depth=10)\n",
    "trainer = RandomForestTrainer(model, train_dl, test_dl)\n",
    "trainer.train()"
   ]
  },
  {
   "cell_type": "code",
   "execution_count": null,
   "metadata": {},
   "outputs": [],
   "source": [
    "\n",
    "\n",
    "features = ['age', 'capital-gain', 'capital-loss', 'education-num', 'hours-per-week']\n",
    "for i in range(5, 12):\n",
    "    features.append(f'marital-status{i-4}')\n",
    "for i in range(12, 26):\n",
    "    features.append(f'occupation{i-11}')\n",
    "features.append('race_White')\n",
    "for i in range(27, 33):\n",
    "    features.append(f'relationship{i-26}')\n",
    "features.append('sex_Male')\n",
    "for i in range(34, 41):\n",
    "    features.append(f'workclass{i-33}')\n",
    "\n",
    "import numpy as np\n",
    "def f(clf):\n",
    "    n_nodes = clf.tree_.node_count\n",
    "    children_left = clf.tree_.children_left\n",
    "    children_right = clf.tree_.children_right\n",
    "    feature = clf.tree_.feature\n",
    "    threshold = clf.tree_.threshold\n",
    "    values = clf.tree_.value\n",
    "\n",
    "    node_depth = np.zeros(shape=n_nodes, dtype=np.int64)\n",
    "    is_leaves = np.zeros(shape=n_nodes, dtype=bool)\n",
    "    stack = [(0, 0)]  # start with the root node id (0) and its depth (0)\n",
    "    while len(stack) > 0:\n",
    "        # `pop` ensures each node is only visited once\n",
    "        node_id, depth = stack.pop()\n",
    "        node_depth[node_id] = depth\n",
    "\n",
    "        is_split_node = children_left[node_id] != children_right[node_id]\n",
    "        # If a split node, append left and right children and depth to `stack`\n",
    "        # so we can loop through them\n",
    "        if is_split_node:\n",
    "            stack.append((children_left[node_id], depth + 1))\n",
    "            stack.append((children_right[node_id], depth + 1))\n",
    "        else:\n",
    "            is_leaves[node_id] = True\n",
    "    \n",
    "    real_feature, real_threshold = [], []\n",
    "    for i in range(len(feature)):\n",
    "        if not is_leaves[i]:\n",
    "            real_feature.append(feature[i])\n",
    "            real_threshold.append(threshold[i])\n",
    "    return real_feature, real_threshold\n",
    "\n",
    "# for tree in model.random_forest.estimators_:\n",
    "#     # print(f'classes: {tree.classes_},\\nfeature_importances: {tree.feature_importances_, tree.feature_importances_[26]},\\nmax_features_: {tree.max_features_}, \\\n",
    "#     #       \\nn_class: {tree.n_classes_}, \\nn_features_in: {tree.n_features_in_}, \\\n",
    "#     #       \\nn_outputs: {tree.n_outputs_}, \\ntree: {tree.tree_}')\n",
    "#     # print(tree.get_depth())\n",
    "#     if -2 in tree.tree_.feature or 39 in tree.tree_.feature:\n",
    "#         print(tree.tree_.feature)\n",
    "#         for i in tree.tree_.feature:\n",
    "#             print(features[i])\n",
    "#         print(tree.tree_.threshold)\n",
    "#         plt.figure(figsize=(12, 8))\n",
    "#         plot_tree(tree, feature_names=features, filled=True)\n",
    "#         plt.show()\n",
    "#         input()"
   ]
  },
  {
   "cell_type": "code",
   "execution_count": null,
   "metadata": {},
   "outputs": [
    {
     "name": "stdout",
     "output_type": "stream",
     "text": [
      "0 age 135 [18.5, 19.0, 19.5, 20.0, 20.5, 21.0, 21.5, 22.0, 22.5, 23.0, 23.5, 24.0, 24.5, 25.0, 25.5, 26.0, 26.5, 27.0, 27.5, 28.0, 28.5, 29.0, 29.5, 30.0, 30.5, 31.0, 31.5, 32.0, 32.5, 33.0, 33.5, 34.0, 34.5, 35.0, 35.5, 36.0, 36.5, 37.0, 37.5, 38.0, 38.5, 39.0, 39.5, 40.0, 40.5, 41.0, 41.5, 42.0, 42.5, 43.0, 43.5, 44.0, 44.5, 45.0, 45.5, 46.0, 46.5, 47.0, 47.5, 48.0, 48.5, 49.0, 49.5, 50.0, 50.5, 51.0, 51.5, 52.0, 52.5, 53.0, 53.5, 54.0, 54.5, 55.0, 55.5, 56.0, 56.5, 57.0, 57.5, 58.0, 58.5, 59.0, 59.5, 60.0, 60.5, 61.0, 61.5, 62.0, 62.5, 63.0, 63.5, 64.0, 64.5, 65.0, 65.5, 66.0, 66.5, 67.0, 67.5, 68.0, 68.5, 69.0, 69.5, 70.0, 70.5, 71.0, 71.5, 72.0, 72.5, 73.0, 73.5, 74.0, 74.5, 75.0, 75.5, 76.0, 76.5, 77.0, 77.5, 78.0, 78.5, 79.0, 79.5, 80.0, 80.5, 81.0, 81.5, 82.5, 83.0, 83.5, 85.0, 85.5, 86.5, 87.0, 89.0]\n",
      "1 capital-gain 408 [200.5, 297.0, 457.0, 527.5, 543.0, 575.5, 586.5, 704.5, 712.0, 727.5, 753.0, 898.5, 924.0, 1018.0, 1025.0, 1052.5, 1087.0, 1088.0, 1101.0, 1114.0, 1145.0, 1164.5, 1177.0, 1193.5, 1203.5, 1231.5, 1290.0, 1298.5, 1317.5, 1326.5, 1414.5, 1442.5, 1468.0, 1488.5, 1551.5, 1568.5, 1662.5, 1705.5, 1728.0, 1732.0, 1735.5, 1837.0, 1890.5, 1954.0, 1971.0, 2032.0, 2050.5, 2138.0, 2193.0, 2254.0, 2325.0, 2343.5, 2393.5, 2432.5, 2465.5, 2467.0, 2506.5, 2544.0, 2589.0, 2604.0, 2690.5, 2696.5, 2727.5, 2755.0, 2841.5, 2850.0, 2850.5, 2869.0, 2897.5, 2919.0, 2921.0, 2924.0, 2936.5, 2966.0, 2994.0, 2994.5, 3019.5, 3032.0, 3048.5, 3120.0, 3146.5, 3209.0, 3220.0, 3257.0, 3279.5, 3283.5, 3287.0, 3338.0, 3396.5, 3400.0, 3424.5, 3442.0, 3485.0, 3494.5, 3505.5, 3508.0, 3519.5, 3566.5, 3570.5, 3583.5, 3625.0, 3635.5, 3649.0, 3661.0, 3673.5, 3692.0, 3715.0, 3744.5, 3761.5, 3786.0, 3832.0, 3844.0, 3882.0, 3898.5, 3921.0, 3925.0, 3928.5, 3948.0, 3955.5, 4003.5, 4006.0, 4017.0, 4030.0, 4031.5, 4052.5, 4056.0, 4057.0, 4058.0, 4083.5, 4102.0, 4129.5, 4147.0, 4157.5, 4164.0, 4180.5, 4225.0, 4230.5, 4243.5, 4245.0, 4287.0, 4290.5, 4294.5, 4307.0, 4321.0, 4354.0, 4394.0, 4444.0, 4447.0, 4498.0, 4517.5, 4543.0, 4551.5, 4560.0, 4601.5, 4621.0, 4658.5, 4668.5, 4675.0, 4685.0, 4687.0, 4693.0, 4699.5, 4718.5, 4781.0, 4782.0, 4792.0, 4794.0, 4826.0, 4843.0, 4880.5, 4885.5, 4899.5, 4914.5, 4944.5, 4946.5, 4997.0, 5032.0, 5063.5, 5071.0, 5095.5, 5119.0, 5121.0, 5142.5, 5163.0, 5170.5, 5194.5, 5217.5, 5222.5, 5241.0, 5243.5, 5254.0, 5256.5, 5260.0, 5284.5, 5302.5, 5311.5, 5316.5, 5325.0, 5327.5, 5351.5, 5354.5, 5373.5, 5381.0, 5395.0, 5397.5, 5402.0, 5412.5, 5484.0, 5549.5, 5576.0, 5603.0, 5605.5, 5620.0, 5642.0, 5674.5, 5715.5, 5760.5, 5763.5, 5798.0, 5815.0, 5818.0, 5838.0, 5842.0, 5857.0, 5876.0, 5891.5, 5903.0, 5909.0, 5969.5, 5972.5, 5974.0, 6013.5, 6037.0, 6040.0, 6098.0, 6114.5, 6147.5, 6155.5, 6161.5, 6228.5, 6276.5, 6347.0, 6350.5, 6357.5, 6442.5, 6457.5, 6473.0, 6509.5, 6515.0, 6571.5, 6575.5, 6592.5, 6618.5, 6632.0, 6640.5, 6739.5, 6745.0, 6748.5, 6775.0, 6837.0, 6871.0, 6895.0, 6897.5, 6922.5, 6963.5, 7032.5, 7034.5, 7042.0, 7073.5, 7076.5, 7106.0, 7128.0, 7139.5, 7158.5, 7167.5, 7227.5, 7268.5, 7310.5, 7370.5, 7372.5, 7436.5, 7487.0, 7512.0, 7555.5, 7565.5, 7585.0, 7668.5, 7669.5, 7692.5, 7731.5, 7747.5, 7792.0, 7809.0, 7876.0, 7915.5, 7987.5, 8028.5, 8029.5, 8087.5, 8130.0, 8205.5, 8255.0, 8263.0, 8296.0, 8340.5, 8437.5, 8508.5, 8612.0, 8621.5, 8678.5, 8684.5, 8686.0, 8704.5, 8719.0, 8770.0, 8834.5, 8926.5, 8932.0, 8952.5, 8954.5, 8980.0, 8981.5, 8983.0, 9100.0, 9127.0, 9200.5, 9207.5, 9208.0, 9217.5, 9240.0, 9249.0, 9250.0, 9263.5, 9380.0, 9402.5, 9466.0, 9474.5, 9502.5, 9560.5, 9578.0, 9590.0, 9604.5, 9635.5, 9766.0, 9976.0, 10018.5, 10023.5, 10025.5, 10136.5, 10199.5, 10403.5, 10466.5, 10496.5, 10543.0, 10585.5, 10723.0, 10763.5, 10764.0, 10893.5, 11031.0, 11161.0, 11340.0, 11863.5, 11904.5, 12325.0, 12562.0, 12618.0, 12795.0, 13587.0, 13726.5, 13914.0, 14887.0, 15078.5, 15212.5, 15308.5, 15866.5, 16042.5, 16239.0, 16607.0, 17338.5, 23822.5, 24089.5, 24304.0, 24499.0, 25957.5, 27827.0, 28167.0, 29665.5, 30680.5, 30961.5, 33273.0, 34569.0, 49999.5, 50296.5, 51231.0, 51662.0, 51943.0, 52050.0, 52207.5, 52432.0, 52506.0, 52727.0, 53179.5, 53248.0, 53424.0, 53721.0, 67047.0, 70654.5]\n",
      "2 capital-loss 341 [106.5, 161.5, 312.5, 326.5, 488.0, 546.0, 569.0, 629.0, 670.0, 690.0, 704.0, 705.5, 710.5, 714.5, 742.5, 752.0, 755.0, 782.0, 786.5, 789.5, 795.0, 814.0, 824.0, 825.5, 834.0, 834.5, 836.0, 870.0, 870.5, 908.0, 912.5, 924.0, 938.0, 943.5, 951.0, 972.0, 987.0, 988.5, 990.0, 1000.5, 1001.0, 1025.5, 1028.5, 1039.0, 1087.0, 1089.5, 1094.5, 1100.5, 1103.0, 1115.5, 1129.0, 1133.5, 1169.5, 1188.5, 1196.0, 1207.5, 1222.0, 1236.0, 1262.0, 1273.5, 1279.5, 1311.5, 1328.0, 1412.0, 1441.0, 1446.5, 1448.0, 1452.0, 1472.0, 1486.0, 1496.5, 1497.5, 1512.0, 1529.0, 1532.0, 1534.0, 1541.5, 1556.5, 1566.5, 1568.0, 1577.0, 1578.5, 1581.5, 1583.0, 1592.0, 1612.5, 1616.0, 1616.5, 1617.5, 1634.5, 1652.5, 1654.0, 1656.5, 1661.5, 1666.5, 1672.5, 1686.0, 1702.0, 1712.0, 1713.5, 1720.0, 1730.0, 1731.0, 1733.0, 1737.5, 1738.0, 1740.5, 1747.5, 1748.0, 1748.5, 1757.5, 1760.0, 1765.0, 1767.5, 1769.0, 1775.0, 1776.5, 1778.0, 1779.5, 1780.0, 1782.5, 1784.5, 1787.0, 1793.5, 1794.0, 1794.5, 1804.5, 1805.0, 1811.0, 1813.5, 1814.0, 1815.5, 1818.5, 1821.0, 1824.5, 1825.0, 1832.0, 1834.5, 1841.5, 1846.0, 1851.5, 1858.5, 1863.5, 1875.0, 1881.0, 1881.5, 1894.5, 1911.0, 1912.0, 1923.0, 1924.0, 1925.0, 1926.5, 1938.0, 1939.5, 1944.5, 1949.5, 1952.0, 1963.5, 1964.5, 1969.0, 1972.0, 1975.0, 1975.5, 1976.5, 1978.5, 1979.5, 1986.0, 1988.0, 1988.5, 1989.0, 1989.5, 1992.0, 1996.5, 1999.5, 2009.5, 2010.0, 2012.5, 2014.0, 2017.0, 2037.0, 2040.5, 2053.0, 2053.5, 2056.0, 2056.5, 2063.0, 2067.0, 2070.5, 2074.5, 2077.0, 2078.0, 2084.5, 2085.0, 2088.0, 2090.5, 2092.5, 2100.0, 2101.0, 2102.5, 2105.5, 2106.5, 2108.0, 2110.0, 2110.5, 2112.5, 2114.0, 2115.5, 2116.0, 2119.0, 2122.0, 2124.0, 2128.0, 2129.0, 2129.5, 2132.0, 2139.5, 2141.5, 2144.0, 2148.5, 2150.0, 2151.5, 2155.5, 2160.0, 2160.5, 2161.5, 2168.5, 2169.0, 2176.5, 2177.0, 2178.0, 2179.5, 2183.0, 2187.5, 2189.5, 2190.0, 2197.0, 2197.5, 2208.0, 2208.5, 2209.0, 2211.5, 2212.5, 2217.0, 2217.5, 2218.0, 2218.5, 2221.5, 2222.5, 2225.5, 2226.0, 2231.5, 2232.0, 2233.0, 2234.5, 2236.0, 2236.5, 2242.0, 2243.5, 2244.0, 2244.5, 2246.0, 2246.5, 2248.0, 2252.0, 2253.0, 2256.5, 2260.5, 2266.5, 2270.0, 2272.0, 2278.0, 2280.0, 2285.0, 2297.0, 2298.5, 2299.0, 2310.5, 2311.5, 2322.0, 2324.5, 2325.0, 2336.5, 2338.5, 2339.0, 2341.0, 2350.0, 2351.0, 2355.0, 2362.5, 2365.0, 2365.5, 2377.0, 2382.0, 2382.5, 2383.5, 2384.0, 2384.5, 2391.5, 2396.0, 2398.5, 2399.0, 2402.5, 2405.5, 2408.5, 2422.0, 2436.0, 2441.0, 2443.0, 2449.0, 2492.5, 2497.5, 2502.5, 2541.0, 2581.5, 2599.0, 2650.0, 2656.5, 2783.5, 2789.0, 2867.0, 2970.5, 2999.5, 3011.0, 3077.5, 3079.0, 3089.5, 3121.0, 3158.5, 3164.5, 3172.0, 3253.5, 3297.0, 3343.5, 3374.0, 3387.0, 3452.0, 3457.5, 3590.0, 3680.0, 3726.5]\n",
      "3 education-num 29 [1.5, 2.0, 2.5, 3.0, 3.5, 4.0, 4.5, 5.0, 5.5, 6.0, 6.5, 7.0, 7.5, 8.0, 8.5, 9.0, 9.5, 10.0, 10.5, 11.0, 11.5, 12.0, 12.5, 13.0, 13.5, 14.0, 14.5, 15.0, 15.5]\n",
      "4 hours-per-week 174 [1.5, 2.0, 2.5, 3.5, 4.0, 4.5, 5.5, 6.0, 6.5, 7.0, 7.5, 8.0, 8.5, 9.0, 9.5, 10.0, 10.5, 11.0, 12.0, 12.5, 13.0, 13.5, 14.0, 15.0, 15.5, 16.0, 16.5, 17.0, 17.5, 18.0, 18.5, 19.0, 19.5, 20.0, 20.5, 21.0, 21.5, 22.0, 22.5, 23.0, 23.5, 24.0, 24.5, 25.0, 25.5, 26.0, 26.5, 27.0, 27.5, 28.0, 28.5, 29.0, 29.5, 30.0, 30.5, 31.0, 31.5, 32.0, 32.5, 33.0, 33.5, 34.0, 34.5, 35.0, 35.5, 36.0, 36.5, 37.0, 37.5, 38.0, 38.5, 39.0, 39.5, 40.0, 40.5, 41.0, 41.5, 42.0, 42.5, 43.0, 43.5, 44.0, 44.5, 45.0, 45.5, 46.0, 46.5, 47.0, 47.5, 48.0, 48.5, 49.0, 49.5, 50.0, 50.5, 51.0, 51.5, 52.0, 52.5, 53.0, 53.5, 54.0, 54.5, 55.0, 55.5, 56.0, 56.5, 57.0, 57.5, 58.0, 58.5, 59.0, 59.5, 60.0, 61.0, 61.5, 62.0, 62.5, 63.0, 63.5, 64.0, 64.5, 65.0, 65.5, 66.0, 66.5, 67.0, 67.5, 68.0, 68.5, 69.0, 70.0, 71.0, 71.5, 72.0, 72.5, 73.5, 74.5, 75.0, 76.0, 76.5, 77.0, 77.5, 78.0, 78.5, 79.0, 79.5, 80.0, 81.0, 82.0, 82.5, 83.0, 83.5, 84.0, 84.5, 85.0, 85.5, 86.5, 87.0, 87.5, 88.5, 89.0, 89.5, 90.0, 90.5, 91.0, 91.5, 92.5, 93.0, 94.5, 95.0, 95.5, 97.5, 98.5]\n",
      "5 marital-status1 1 [0.5]\n",
      "6 marital-status2 1 [0.5]\n",
      "7 marital-status3 1 [0.5]\n",
      "8 marital-status4 1 [0.5]\n",
      "9 marital-status5 1 [0.5]\n",
      "10 marital-status6 1 [0.5]\n",
      "11 marital-status7 1 [0.5]\n",
      "12 occupation1 1 [0.5]\n",
      "13 occupation2 1 [0.5]\n",
      "14 occupation3 1 [0.5]\n",
      "15 occupation4 1 [0.5]\n",
      "16 occupation5 1 [0.5]\n",
      "17 occupation6 1 [0.5]\n",
      "18 occupation7 1 [0.5]\n",
      "19 occupation8 1 [0.5]\n",
      "20 occupation9 1 [0.5]\n",
      "21 occupation10 1 [0.5]\n",
      "22 occupation11 1 [0.5]\n",
      "23 occupation12 1 [0.5]\n",
      "24 occupation13 1 [0.5]\n",
      "25 occupation14 1 [0.5]\n",
      "26 race_White 1 [0.5]\n",
      "27 relationship1 1 [0.5]\n",
      "28 relationship2 1 [0.5]\n",
      "29 relationship3 1 [0.5]\n",
      "30 relationship4 1 [0.5]\n",
      "31 relationship5 1 [0.5]\n",
      "32 relationship6 1 [0.5]\n",
      "33 sex_Male 1 [0.5]\n",
      "34 workclass1 1 [0.5]\n",
      "35 workclass2 1 [0.5]\n",
      "36 workclass3 1 [0.5]\n",
      "37 workclass4 1 [0.5]\n",
      "38 workclass5 1 [0.5]\n",
      "39 workclass6 1 [0.5]\n",
      "40 workclass7 1 [0.5]\n"
     ]
    }
   ],
   "source": [
    "th = [[] for _ in range(model.random_forest.n_features_in_)]\n",
    "for tree in model.random_forest.estimators_:\n",
    "    feature, threshold = f(tree)\n",
    "    for i in range(len(feature)):\n",
    "        th[feature[i]].append(threshold[i])\n",
    "    # for i in range(len(tree.tree_.feature)):\n",
    "    #     th[tree.tree_.feature[i]].append(tree.tree_.threshold[i])\n",
    "for i, threshold in enumerate(th):\n",
    "    print(i, features[i], len(list(set(threshold))), sorted(list(set(threshold))))"
   ]
  },
  {
   "cell_type": "code",
   "execution_count": null,
   "metadata": {},
   "outputs": [],
   "source": [
    "\n",
    "data_gen = Generator(sensitive_columns=['race_White'], include_protected_feature=True)"
   ]
  },
  {
   "cell_type": "code",
   "execution_count": null,
   "metadata": {},
   "outputs": [
    {
     "data": {
      "text/html": [
       "<div>\n",
       "<style scoped>\n",
       "    .dataframe tbody tr th:only-of-type {\n",
       "        vertical-align: middle;\n",
       "    }\n",
       "\n",
       "    .dataframe tbody tr th {\n",
       "        vertical-align: top;\n",
       "    }\n",
       "\n",
       "    .dataframe thead th {\n",
       "        text-align: right;\n",
       "    }\n",
       "</style>\n",
       "<table border=\"1\" class=\"dataframe\">\n",
       "  <thead>\n",
       "    <tr style=\"text-align: right;\">\n",
       "      <th></th>\n",
       "      <th>age</th>\n",
       "      <th>capital-gain</th>\n",
       "      <th>capital-loss</th>\n",
       "      <th>education-num</th>\n",
       "      <th>hours-per-week</th>\n",
       "      <th>race_White</th>\n",
       "      <th>sex_Male</th>\n",
       "      <th>marital-status</th>\n",
       "      <th>occupation</th>\n",
       "      <th>relationship</th>\n",
       "      <th>workclass</th>\n",
       "    </tr>\n",
       "  </thead>\n",
       "  <tbody>\n",
       "    <tr>\n",
       "      <th>0</th>\n",
       "      <td>69</td>\n",
       "      <td>28328</td>\n",
       "      <td>1354</td>\n",
       "      <td>14</td>\n",
       "      <td>8</td>\n",
       "      <td>0</td>\n",
       "      <td>0</td>\n",
       "      <td>4</td>\n",
       "      <td>1</td>\n",
       "      <td>0</td>\n",
       "      <td>2</td>\n",
       "    </tr>\n",
       "  </tbody>\n",
       "</table>\n",
       "</div>"
      ],
      "text/plain": [
       "   age  capital-gain  capital-loss  education-num  hours-per-week  race_White  \\\n",
       "0   69         28328          1354             14               8           0   \n",
       "\n",
       "   sex_Male  marital-status  occupation  relationship  workclass  \n",
       "0         0               4           1             0          2  "
      ]
     },
     "execution_count": 6,
     "metadata": {},
     "output_type": "execute_result"
    }
   ],
   "source": [
    "data_point = data_gen.gen_by_range()\n",
    "data_gen.feature_dataframe(data=data_point)"
   ]
  },
  {
   "cell_type": "code",
   "execution_count": null,
   "metadata": {},
   "outputs": [],
   "source": [
    "\n",
    "def iter_along_dim(x, dim, threshold, data_range):\n",
    "    threshold = sorted(list(set(threshold[dim])))\n",
    "    data_range = data_range[:, dim]\n",
    "    l, u = data_range[0].item(), data_range[1].item()\n",
    "\n",
    "    sections = []\n",
    "    posterior = []\n",
    "    for i in range(len(threshold) + 1):\n",
    "        if i == 0:\n",
    "            section = [l, threshold[i]]\n",
    "        elif i == len(threshold):\n",
    "            section = [threshold[i - 1], u]\n",
    "        else:\n",
    "            section = [threshold[i-1], threshold[i]]\n",
    "\n",
    "        xx = x.clone()\n",
    "        xx[:, dim] = np.floor(section[1])\n",
    "        # display(data_gen.feature_dataframe(data=xx))\n",
    "        sections.extend(section)\n",
    "        p = model(xx)[0][1].item()\n",
    "        posterior.extend([p, p])\n",
    "    plt.figure(figsize=(8, 6))\n",
    "    plt.plot(sections, posterior)\n",
    "    plt.axvline(x=x[0, dim].item(), color='red', linestyle='--', label='x=0')\n",
    "    plt.show()\n",
    "    "
   ]
  },
  {
   "cell_type": "code",
   "execution_count": null,
   "metadata": {},
   "outputs": [],
   "source": [
    "iter_along_dim(data_point, dim=3, threshold=th, data_range=data_gen.get_range('data'))"
   ]
  },
  {
   "cell_type": "code",
   "execution_count": 9,
   "metadata": {},
   "outputs": [],
   "source": [
    "\n",
    "all_X, all_y = dataset.get_all_data(), dataset.labels\n",
    "\n",
    "distance_x_Causal = ProtectedSEDistances()\n",
    "distance_x_LR = LogisticRegSensitiveSubspace()\n",
    "distance_y = BinaryDistance()\n",
    "\n",
    "# distance_x_NSE.fit(num_dims=dataset.dim_feature(), data_gen=adult_gen)\n",
    "if use_protected_attr:\n",
    "    distance_x_Causal.fit(num_dims=dataset.dim_feature(), data_gen=data_gen, protected_idx=dataset.protected_idxs)\n",
    "    distance_x_LR.fit(all_X, data_gen, protected_idxs=dataset.protected_idxs)\n",
    "else:\n",
    "    sensitive_ = dataset.data[:, dataset.protected_idxs]\n",
    "    distance_x_Causal.fit(num_dims=dataset.dim_feature(), data_gen=data_gen, protected_idx=[])\n",
    "    distance_x_LR.fit(all_X, data_gen, data_SensitiveAttrs=sensitive_)\n",
    "\n",
    "chosen_dx = distance_x_Causal\n",
    "\n",
    "epsilon = 1e10\n",
    "unfair_metric = UnfairMetric(dx=chosen_dx, dy=distance_y, epsilon=epsilon)"
   ]
  },
  {
   "cell_type": "code",
   "execution_count": 10,
   "metadata": {},
   "outputs": [],
   "source": [
    "def show_result(result):\n",
    "    pair, n_query = result[0], result[1]\n",
    "    if len(result) == 3:\n",
    "        print(f'n_iters = {result[2]}')\n",
    "    if pair != None:\n",
    "        display(data_gen.feature_dataframe(data=pair), n_query)\n",
    "    else:\n",
    "        display('not found')"
   ]
  },
  {
   "cell_type": "code",
   "execution_count": 11,
   "metadata": {},
   "outputs": [
    {
     "data": {
      "text/plain": [
       "'try: 0'"
      ]
     },
     "metadata": {},
     "output_type": "display_data"
    },
    {
     "name": "stdout",
     "output_type": "stream",
     "text": [
      "n_iters = 22\n"
     ]
    },
    {
     "data": {
      "text/html": [
       "<div>\n",
       "<style scoped>\n",
       "    .dataframe tbody tr th:only-of-type {\n",
       "        vertical-align: middle;\n",
       "    }\n",
       "\n",
       "    .dataframe tbody tr th {\n",
       "        vertical-align: top;\n",
       "    }\n",
       "\n",
       "    .dataframe thead th {\n",
       "        text-align: right;\n",
       "    }\n",
       "</style>\n",
       "<table border=\"1\" class=\"dataframe\">\n",
       "  <thead>\n",
       "    <tr style=\"text-align: right;\">\n",
       "      <th></th>\n",
       "      <th>age</th>\n",
       "      <th>capital-gain</th>\n",
       "      <th>capital-loss</th>\n",
       "      <th>education-num</th>\n",
       "      <th>hours-per-week</th>\n",
       "      <th>race_White</th>\n",
       "      <th>sex_Male</th>\n",
       "      <th>marital-status</th>\n",
       "      <th>occupation</th>\n",
       "      <th>relationship</th>\n",
       "      <th>workclass</th>\n",
       "    </tr>\n",
       "  </thead>\n",
       "  <tbody>\n",
       "    <tr>\n",
       "      <th>0</th>\n",
       "      <td>17</td>\n",
       "      <td>8029</td>\n",
       "      <td>618</td>\n",
       "      <td>3</td>\n",
       "      <td>1</td>\n",
       "      <td>0</td>\n",
       "      <td>0</td>\n",
       "      <td>5</td>\n",
       "      <td>13</td>\n",
       "      <td>0</td>\n",
       "      <td>3</td>\n",
       "    </tr>\n",
       "    <tr>\n",
       "      <th>1</th>\n",
       "      <td>17</td>\n",
       "      <td>8028</td>\n",
       "      <td>618</td>\n",
       "      <td>3</td>\n",
       "      <td>1</td>\n",
       "      <td>0</td>\n",
       "      <td>0</td>\n",
       "      <td>5</td>\n",
       "      <td>13</td>\n",
       "      <td>0</td>\n",
       "      <td>3</td>\n",
       "    </tr>\n",
       "  </tbody>\n",
       "</table>\n",
       "</div>"
      ],
      "text/plain": [
       "   age  capital-gain  capital-loss  education-num  hours-per-week  race_White  \\\n",
       "0   17          8029           618              3               1           0   \n",
       "1   17          8028           618              3               1           0   \n",
       "\n",
       "   sex_Male  marital-status  occupation  relationship  workclass  \n",
       "0         0               5          13             0          3  \n",
       "1         0               5          13             0          3  "
      ]
     },
     "metadata": {},
     "output_type": "display_data"
    },
    {
     "data": {
      "text/plain": [
       "40"
      ]
     },
     "metadata": {},
     "output_type": "display_data"
    },
    {
     "data": {
      "text/plain": [
       "'try: 1'"
      ]
     },
     "metadata": {},
     "output_type": "display_data"
    },
    {
     "name": "stdout",
     "output_type": "stream",
     "text": [
      "n_iters = 32\n"
     ]
    },
    {
     "data": {
      "text/plain": [
       "'not found'"
      ]
     },
     "metadata": {},
     "output_type": "display_data"
    },
    {
     "data": {
      "text/plain": [
       "'try: 2'"
      ]
     },
     "metadata": {},
     "output_type": "display_data"
    },
    {
     "name": "stdout",
     "output_type": "stream",
     "text": [
      "n_iters = 35\n"
     ]
    },
    {
     "data": {
      "text/plain": [
       "'not found'"
      ]
     },
     "metadata": {},
     "output_type": "display_data"
    }
   ],
   "source": [
    "random.seed(422)\n",
    "torch.manual_seed(422)\n",
    "\n",
    "test_seeker = FoolSeeker(model=model, unfair_metric=unfair_metric, data_gen=data_gen, easy=True)\n",
    "# show_result(white_seeker.seek())\n",
    "for i in range(3):\n",
    "    display(f'try: {i}')\n",
    "    show_result(test_seeker.seek(origin_lr=0.1, max_query=1e6, lamb=1))"
   ]
  },
  {
   "cell_type": "code",
   "execution_count": 12,
   "metadata": {},
   "outputs": [],
   "source": [
    "all_X = dataset.data\n",
    "all_X_conter = all_X.clone()\n",
    "all_X_conter[:, dataset.protected_idxs[0]] = 1 - all_X_conter[:, dataset.protected_idxs[0]]\n",
    "\n",
    "all_pred = model.get_prediction(all_X)\n",
    "all_pred_conter = model.get_prediction(all_X_conter)"
   ]
  },
  {
   "cell_type": "code",
   "execution_count": 13,
   "metadata": {},
   "outputs": [],
   "source": [
    "# i = 100\n",
    "# pair = torch.concat([all_X[i].unsqueeze(0), all_X_conter[i].unsqueeze(0)])\n",
    "# adult.get_original_feature(pair)\n"
   ]
  },
  {
   "cell_type": "code",
   "execution_count": 14,
   "metadata": {},
   "outputs": [
    {
     "data": {
      "text/plain": [
       "45222"
      ]
     },
     "execution_count": 14,
     "metadata": {},
     "output_type": "execute_result"
    }
   ],
   "source": [
    "len(all_pred)"
   ]
  },
  {
   "cell_type": "code",
   "execution_count": 15,
   "metadata": {},
   "outputs": [
    {
     "data": {
      "text/plain": [
       "tensor(346)"
      ]
     },
     "execution_count": 15,
     "metadata": {},
     "output_type": "execute_result"
    }
   ],
   "source": [
    "(all_pred != all_pred_conter).sum()"
   ]
  },
  {
   "cell_type": "code",
   "execution_count": 16,
   "metadata": {},
   "outputs": [],
   "source": [
    "adult_gen = adult.Generator(sensitive_columns=dataset.protected_idxs, include_protected_feature=True)\n",
    "\n",
    "distance_x_NSE = SquaredEuclideanDistance()\n",
    "distance_x_Causal = ProtectedSEDistances()\n",
    "distance_x_LR = LogisticRegSensitiveSubspace()\n",
    "distance_y = BinaryDistance()\n",
    "\n",
    "distance_x_NSE.fit(num_dims=dataset.dim_feature(), data_gen=adult_gen)\n",
    "distance_x_Causal.fit(num_dims=dataset.dim_feature(), data_gen=adult_gen, protected_idx=dataset.protected_idxs)\n",
    "distance_x_LR.fit(all_X, adult_gen, protected_idxs=dataset.protected_idxs)"
   ]
  },
  {
   "cell_type": "code",
   "execution_count": 17,
   "metadata": {},
   "outputs": [],
   "source": [
    "from models.model import MLP\n",
    "from utils import load_model\n",
    "\n",
    "in_dim = dataset.dim_feature()\n",
    "out_dim = 2\n",
    "\n",
    "model_name = 'MLP'\n",
    "# model_name = 'RandomForest'\n",
    "\n",
    "if model_name == 'MLP':\n",
    "    model = MLP(in_dim, out_dim)\n",
    "    trainer_name = 'STDTrainer'\n",
    "elif model_name == 'RandomForest':\n",
    "    model = RandomForest()\n",
    "    trainer_name = 'RandomForestTrainer'\n",
    "load_model(model, model_name, 'adult', trainer_name, use_protected_attr=True, \\\n",
    "           protected_vars=protected_vars, id=rand_seed)"
   ]
  },
  {
   "cell_type": "code",
   "execution_count": 18,
   "metadata": {},
   "outputs": [],
   "source": [
    "all_pred = model.get_prediction(all_X)\n",
    "all_pred_conter = model.get_prediction(all_X_conter)"
   ]
  },
  {
   "cell_type": "code",
   "execution_count": 19,
   "metadata": {},
   "outputs": [
    {
     "data": {
      "text/plain": [
       "45222"
      ]
     },
     "execution_count": 19,
     "metadata": {},
     "output_type": "execute_result"
    }
   ],
   "source": [
    "len(all_pred)"
   ]
  },
  {
   "cell_type": "code",
   "execution_count": 20,
   "metadata": {},
   "outputs": [
    {
     "data": {
      "text/plain": [
       "tensor(440)"
      ]
     },
     "execution_count": 20,
     "metadata": {},
     "output_type": "execute_result"
    }
   ],
   "source": [
    "(all_pred != all_pred_conter).sum()"
   ]
  },
  {
   "cell_type": "code",
   "execution_count": null,
   "metadata": {},
   "outputs": [],
   "source": []
  }
 ],
 "metadata": {
  "kernelspec": {
   "display_name": "torch1.9",
   "language": "python",
   "name": "python3"
  },
  "language_info": {
   "codemirror_mode": {
    "name": "ipython",
    "version": 3
   },
   "file_extension": ".py",
   "mimetype": "text/x-python",
   "name": "python",
   "nbconvert_exporter": "python",
   "pygments_lexer": "ipython3",
   "version": "3.9.18"
  }
 },
 "nbformat": 4,
 "nbformat_minor": 2
}
