{
 "cells": [
  {
   "cell_type": "code",
   "execution_count": 2,
   "metadata": {},
   "outputs": [],
   "source": [
    "import os\n",
    "import requests\n",
    "\n",
    "def download_data(rootdir=None):\n",
    "\n",
    "    URLS = {\n",
    "        'train': 'https://archive.ics.uci.edu/ml/machine-learning-databases/adult/adult.data',\n",
    "        'test': 'https://archive.ics.uci.edu/ml/machine-learning-databases/adult/adult.test'\n",
    "    }\n",
    "\n",
    "    dirpaths = {}\n",
    "\n",
    "    if rootdir is None:\n",
    "        rootdir = \"../dataset\"\n",
    "\n",
    "    os.makedirs(rootdir, exist_ok=True)\n",
    "\n",
    "    for fname, url in URLS.items():\n",
    "        fout = os.path.join(rootdir, f'{fname}.csv')\n",
    "\n",
    "        r = requests.get(url)\n",
    "        with open(fout, 'w') as f:\n",
    "            f.write(r.content.decode('utf-8'))\n",
    "\n",
    "        dirpaths[fname] = fout\n",
    "    \n",
    "    return dirpaths"
   ]
  },
  {
   "cell_type": "code",
   "execution_count": 3,
   "metadata": {},
   "outputs": [],
   "source": [
    "dirpaths = download_data()"
   ]
  },
  {
   "cell_type": "code",
   "execution_count": null,
   "metadata": {},
   "outputs": [],
   "source": []
  }
 ],
 "metadata": {
  "kernelspec": {
   "display_name": "torch1.9",
   "language": "python",
   "name": "python3"
  },
  "language_info": {
   "codemirror_mode": {
    "name": "ipython",
    "version": 3
   },
   "file_extension": ".py",
   "mimetype": "text/x-python",
   "name": "python",
   "nbconvert_exporter": "python",
   "pygments_lexer": "ipython3",
   "version": "3.9.18"
  }
 },
 "nbformat": 4,
 "nbformat_minor": 2
}
