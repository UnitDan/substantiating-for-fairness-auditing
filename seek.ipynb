{
 "cells": [
  {
   "cell_type": "code",
   "execution_count": 1,
   "metadata": {},
   "outputs": [],
   "source": [
    "import torch\n",
    "import random\n",
    "from seeker import White_seeker, Random_select_seeker, Random_gen_seeker, Black_seeker\n",
    "from utils import Unfair_metric, load_model, get_L_matrix\n",
    "from data import adult\n",
    "from train_dnn import get_data\n",
    "from dnn_models.model import MLP\n",
    "from distances import MahalanobisDistances, LogisticRegSensitiveSubspace, BinaryDistance, NormalizedSquaredEuclideanDistance\n",
    "from torch.utils.data import DataLoader\n",
    "from tqdm.notebook import tqdm\n",
    "from IPython.display import display\n",
    "\n",
    "%load_ext autoreload\n",
    "%autoreload 2"
   ]
  },
  {
   "cell_type": "code",
   "execution_count": 2,
   "metadata": {},
   "outputs": [],
   "source": [
    "rand_seed = 0\n",
    "use_protected_attr = True\n",
    "\n",
    "dataset, train_dl, test_dl = get_data(adult, rand_seed)\n",
    "dataset.use_protected_attr = use_protected_attr\n",
    "in_dim = dataset.dim_feature()\n",
    "out_dim = 2\n",
    "\n",
    "model = MLP(in_dim, out_dim)\n",
    "load_model(model, 'MLP', 'adult', 'STDTrainer', use_protected_attr=use_protected_attr, id=rand_seed)"
   ]
  },
  {
   "cell_type": "code",
   "execution_count": 3,
   "metadata": {},
   "outputs": [],
   "source": [
    "# prepare data\n",
    "all_X, all_y = dataset.data, dataset.labels\n",
    "all_pred = model.get_prediction(all_X)\n",
    "\n",
    "train_X, train_y = [], []\n",
    "for x, y in train_dl:\n",
    "    train_X.append(x)\n",
    "    train_y.append(y)\n",
    "train_X = torch.concat(train_X, dim=0)\n",
    "train_y = torch.concat(train_y, dim=0)"
   ]
  },
  {
   "cell_type": "code",
   "execution_count": 4,
   "metadata": {},
   "outputs": [
    {
     "data": {
      "text/plain": [
       "5112573.21"
      ]
     },
     "execution_count": 4,
     "metadata": {},
     "output_type": "execute_result"
    }
   ],
   "source": [
    "len(all_X)**2*0.0025"
   ]
  },
  {
   "cell_type": "code",
   "execution_count": 5,
   "metadata": {},
   "outputs": [],
   "source": [
    "adult_gen = adult.Adult_gen(include_protected_feature=use_protected_attr)"
   ]
  },
  {
   "cell_type": "code",
   "execution_count": 6,
   "metadata": {},
   "outputs": [],
   "source": [
    "# prepare distances\n",
    "distance_x_Ma = MahalanobisDistances()\n",
    "distance_x_LR = LogisticRegSensitiveSubspace()\n",
    "distance_x_NSE = NormalizedSquaredEuclideanDistance()\n",
    "\n",
    "distance_y = BinaryDistance()\n",
    "\n",
    "distance_x_Ma.fit(sigma=torch.cov(train_X.T))\n",
    "distance_x_LR.fit(train_X, protected_idxs=dataset.protected_idxs, keep_protected_idxs=use_protected_attr)\n",
    "distance_x_NSE.fit(num_dims=dataset.dim_feature(), data_gen=adult_gen)"
   ]
  },
  {
   "cell_type": "code",
   "execution_count": 7,
   "metadata": {},
   "outputs": [
    {
     "data": {
      "text/html": [
       "<div>\n",
       "<style scoped>\n",
       "    .dataframe tbody tr th:only-of-type {\n",
       "        vertical-align: middle;\n",
       "    }\n",
       "\n",
       "    .dataframe tbody tr th {\n",
       "        vertical-align: top;\n",
       "    }\n",
       "\n",
       "    .dataframe thead th {\n",
       "        text-align: right;\n",
       "    }\n",
       "</style>\n",
       "<table border=\"1\" class=\"dataframe\">\n",
       "  <thead>\n",
       "    <tr style=\"text-align: right;\">\n",
       "      <th></th>\n",
       "      <th>age</th>\n",
       "      <th>capital-gain</th>\n",
       "      <th>capital-loss</th>\n",
       "      <th>education-num</th>\n",
       "      <th>hours-per-week</th>\n",
       "      <th>race_White</th>\n",
       "      <th>sex_Male</th>\n",
       "      <th>marital-status</th>\n",
       "      <th>occupation</th>\n",
       "      <th>relationship</th>\n",
       "      <th>workclass</th>\n",
       "    </tr>\n",
       "  </thead>\n",
       "  <tbody>\n",
       "    <tr>\n",
       "      <th>0</th>\n",
       "      <td>38.0</td>\n",
       "      <td>0.0</td>\n",
       "      <td>0.0</td>\n",
       "      <td>12.0</td>\n",
       "      <td>27.0</td>\n",
       "      <td>0.0</td>\n",
       "      <td>1.0</td>\n",
       "      <td>4.0</td>\n",
       "      <td>11.0</td>\n",
       "      <td>0.0</td>\n",
       "      <td>1.0</td>\n",
       "    </tr>\n",
       "    <tr>\n",
       "      <th>1</th>\n",
       "      <td>38.0</td>\n",
       "      <td>0.0</td>\n",
       "      <td>0.0</td>\n",
       "      <td>12.0</td>\n",
       "      <td>27.0</td>\n",
       "      <td>0.0</td>\n",
       "      <td>0.0</td>\n",
       "      <td>4.0</td>\n",
       "      <td>11.0</td>\n",
       "      <td>0.0</td>\n",
       "      <td>1.0</td>\n",
       "    </tr>\n",
       "  </tbody>\n",
       "</table>\n",
       "</div>"
      ],
      "text/plain": [
       "    age  capital-gain  capital-loss  education-num  hours-per-week  \\\n",
       "0  38.0           0.0           0.0           12.0            27.0   \n",
       "1  38.0           0.0           0.0           12.0            27.0   \n",
       "\n",
       "   race_White  sex_Male  marital-status  occupation  relationship  workclass  \n",
       "0         0.0       1.0             4.0        11.0           0.0        1.0  \n",
       "1         0.0       0.0             4.0        11.0           0.0        1.0  "
      ]
     },
     "execution_count": 7,
     "metadata": {},
     "output_type": "execute_result"
    }
   ],
   "source": [
    "def rand_gen():\n",
    "    return {\n",
    "        'age': random.randint(15, 60),\n",
    "        'capital_gain': 0,\n",
    "        'capital_loss': 0,\n",
    "        'education_num': random.randint(1, 15),\n",
    "        'hours_per_week': random.randint(10, 50),\n",
    "        'race_white': random.choice([0, 1]),\n",
    "        'sex_male': random.choice([0, 1]),\n",
    "        'marital_status': random.choice(list(range(7))),\n",
    "        'occupation': random.choice(list(range(14))),\n",
    "        'relationship': random.choice(list(range(6))),\n",
    "        'workclass': random.choice(list(range(7)))\n",
    "    }\n",
    "\n",
    "def perturb_pair(x, pert, value):\n",
    "    pair = dict()\n",
    "    for k, v in x.items():\n",
    "        pair[k] = torch.tensor([v, v])\n",
    "        if k == pert:\n",
    "            pair[k][1] = value\n",
    "    return pair\n",
    "\n",
    "x = rand_gen()\n",
    "pair = adult.generate_from_origin(**perturb_pair(x, 'sex_male', 1-x['sex_male']))\n",
    "adult.get_original_feature(pair)"
   ]
  },
  {
   "cell_type": "code",
   "execution_count": 8,
   "metadata": {},
   "outputs": [
    {
     "name": "stdout",
     "output_type": "stream",
     "text": [
      "tensor([[1.]])\n"
     ]
    }
   ],
   "source": [
    "print(1 / distance_x_NSE(pair[0], pair[1]))"
   ]
  },
  {
   "cell_type": "code",
   "execution_count": 9,
   "metadata": {},
   "outputs": [
    {
     "name": "stdout",
     "output_type": "stream",
     "text": [
      "tensor([[0.0002]]) tensor([[5328.9941]])\n",
      "tensor([[1.0000e-10]]) tensor([[9.9998e+09]])\n",
      "tensor([[5.2702e-08]]) tensor([[18974736.]])\n",
      "tensor([[0.0044]]) tensor([[225.0000]])\n",
      "tensor([[0.0001]]) tensor([[9603.9814]])\n",
      "tensor([[1.]]) tensor([[1.]])\n",
      "tensor([[1.]]) tensor([[1.]])\n",
      "tensor([[2.]]) tensor([[0.5000]])\n",
      "tensor([[2.]]) tensor([[0.5000]])\n",
      "tensor([[2.]]) tensor([[0.5000]])\n",
      "tensor([[2.]]) tensor([[0.5000]])\n"
     ]
    }
   ],
   "source": [
    "x = rand_gen()\n",
    "for key in x:\n",
    "    pair = adult.generate_from_origin(**perturb_pair(x, key, x[key]+1))\n",
    "    print(distance_x_NSE(pair[0], pair[1]), 1 / distance_x_NSE(pair[0], pair[1]))"
   ]
  },
  {
   "cell_type": "code",
   "execution_count": 10,
   "metadata": {},
   "outputs": [],
   "source": [
    "# epsilon越大，要求不公平样本对dx越小，越严格\n",
    "epsilon = 1\n",
    "unfair_metric = Unfair_metric(dx=distance_x_NSE, dy=distance_y, epsilon=epsilon)"
   ]
  },
  {
   "cell_type": "code",
   "execution_count": 11,
   "metadata": {},
   "outputs": [
    {
     "data": {
      "application/vnd.jupyter.widget-view+json": {
       "model_id": "939a156b0aa641ceae22f40246176c12",
       "version_major": 2,
       "version_minor": 0
      },
      "text/plain": [
       "  0%|          | 0/91 [00:00<?, ?it/s]"
      ]
     },
     "metadata": {},
     "output_type": "display_data"
    },
    {
     "data": {
      "text/plain": [
       "0.0024952043669610358"
      ]
     },
     "execution_count": 11,
     "metadata": {},
     "output_type": "execute_result"
    }
   ],
   "source": [
    "L = get_L_matrix(all_X, all_pred, distance_x_NSE, distance_y)\n",
    "n_unfair = torch.sum(L>1/epsilon).item()\n",
    "\n",
    "total_pairs = all_X.shape[0]**2\n",
    "\n",
    "unfair_ratio = n_unfair/total_pairs\n",
    "unfair_ratio"
   ]
  },
  {
   "cell_type": "code",
   "execution_count": 12,
   "metadata": {},
   "outputs": [
    {
     "data": {
      "text/plain": [
       "400.7687759932554"
      ]
     },
     "execution_count": 12,
     "metadata": {},
     "output_type": "execute_result"
    }
   ],
   "source": [
    "1/unfair_ratio"
   ]
  },
  {
   "cell_type": "code",
   "execution_count": 13,
   "metadata": {},
   "outputs": [
    {
     "name": "stdout",
     "output_type": "stream",
     "text": [
      "10 0.02467372776660104\n",
      "100 0.22106856817604703\n",
      "1000 0.9177771946052034\n",
      "10000 0.9999999999858772\n",
      "100000 1.0\n",
      "1000000 1.0\n",
      "10000000 1.0\n",
      "100000000 1.0\n",
      "1000000000 1.0\n"
     ]
    }
   ],
   "source": [
    "p_success = lambda n: 1 - (1 - unfair_ratio)**n\n",
    "for i in range(10):\n",
    "    if p_success(10**i) > 1/100:\n",
    "        print(10**i, p_success(10**i))"
   ]
  },
  {
   "cell_type": "code",
   "execution_count": 14,
   "metadata": {},
   "outputs": [],
   "source": [
    "def show_result(result):\n",
    "    pair, n_query = result\n",
    "    if pair != None:\n",
    "        display(adult.get_original_feature(pair), n_query)\n",
    "    else:\n",
    "        print('not found')"
   ]
  },
  {
   "cell_type": "code",
   "execution_count": 15,
   "metadata": {},
   "outputs": [],
   "source": [
    "# random.seed(422)\n",
    "# torch.manual_seed(422)\n",
    "\n",
    "# select_seeker = Random_select_seeker(model=model, unfair_metric=unfair_metric, data=all_X)\n",
    "# for _ in range(3):\n",
    "#     show_result(select_seeker.seek(max_query=len(all_X)))"
   ]
  },
  {
   "cell_type": "code",
   "execution_count": 16,
   "metadata": {},
   "outputs": [],
   "source": [
    "# random.seed(422)\n",
    "# torch.manual_seed(422)\n",
    "\n",
    "# gen_seeker = Random_gen_seeker(model=model, unfair_metric=unfair_metric, data_gen=adult_gen)\n",
    "# for _ in range(3):\n",
    "#     show_result(gen_seeker.seek(by_range=True, max_query=len(all_X)))"
   ]
  },
  {
   "cell_type": "code",
   "execution_count": 17,
   "metadata": {},
   "outputs": [],
   "source": [
    "# random.seed(422)\n",
    "# torch.manual_seed(422)\n",
    "\n",
    "# for _ in range(3):\n",
    "#     show_result(gen_seeker.seek(by_range=False, max_query=len(all_X)))"
   ]
  },
  {
   "cell_type": "code",
   "execution_count": 18,
   "metadata": {},
   "outputs": [
    {
     "data": {
      "text/plain": [
       "tensor([[1.7000e+01, 0.0000e+00, 0.0000e+00, 1.0000e+00, 1.0000e+00, 0.0000e+00,\n",
       "         0.0000e+00, 0.0000e+00, 0.0000e+00, 0.0000e+00, 0.0000e+00],\n",
       "        [9.0000e+01, 9.9999e+04, 4.3560e+03, 1.6000e+01, 9.9000e+01, 1.0000e+00,\n",
       "         1.0000e+00, 6.0000e+00, 1.3000e+01, 5.0000e+00, 6.0000e+00]])"
      ]
     },
     "execution_count": 18,
     "metadata": {},
     "output_type": "execute_result"
    }
   ],
   "source": [
    "adult_gen.range"
   ]
  },
  {
   "cell_type": "code",
   "execution_count": 19,
   "metadata": {},
   "outputs": [
    {
     "name": "stdout",
     "output_type": "stream",
     "text": [
      "1000000000000000.0\n",
      "x0 changes\n",
      "1000000000000000.0\n",
      "x0 changes\n",
      "1310.72\n",
      "out5: directly find a unfair pair when processing gradiant descent\n"
     ]
    },
    {
     "data": {
      "text/html": [
       "<div>\n",
       "<style scoped>\n",
       "    .dataframe tbody tr th:only-of-type {\n",
       "        vertical-align: middle;\n",
       "    }\n",
       "\n",
       "    .dataframe tbody tr th {\n",
       "        vertical-align: top;\n",
       "    }\n",
       "\n",
       "    .dataframe thead th {\n",
       "        text-align: right;\n",
       "    }\n",
       "</style>\n",
       "<table border=\"1\" class=\"dataframe\">\n",
       "  <thead>\n",
       "    <tr style=\"text-align: right;\">\n",
       "      <th></th>\n",
       "      <th>age</th>\n",
       "      <th>capital-gain</th>\n",
       "      <th>capital-loss</th>\n",
       "      <th>education-num</th>\n",
       "      <th>hours-per-week</th>\n",
       "      <th>race_White</th>\n",
       "      <th>sex_Male</th>\n",
       "      <th>marital-status</th>\n",
       "      <th>occupation</th>\n",
       "      <th>relationship</th>\n",
       "      <th>workclass</th>\n",
       "    </tr>\n",
       "  </thead>\n",
       "  <tbody>\n",
       "    <tr>\n",
       "      <th>0</th>\n",
       "      <td>73.0</td>\n",
       "      <td>0.0</td>\n",
       "      <td>4356.0</td>\n",
       "      <td>1.0</td>\n",
       "      <td>85.0</td>\n",
       "      <td>1.0</td>\n",
       "      <td>0.0</td>\n",
       "      <td>4.0</td>\n",
       "      <td>7.0</td>\n",
       "      <td>1.0</td>\n",
       "      <td>2.0</td>\n",
       "    </tr>\n",
       "    <tr>\n",
       "      <th>1</th>\n",
       "      <td>56.0</td>\n",
       "      <td>0.0</td>\n",
       "      <td>4356.0</td>\n",
       "      <td>1.0</td>\n",
       "      <td>70.0</td>\n",
       "      <td>1.0</td>\n",
       "      <td>0.0</td>\n",
       "      <td>4.0</td>\n",
       "      <td>7.0</td>\n",
       "      <td>1.0</td>\n",
       "      <td>2.0</td>\n",
       "    </tr>\n",
       "  </tbody>\n",
       "</table>\n",
       "</div>"
      ],
      "text/plain": [
       "    age  capital-gain  capital-loss  education-num  hours-per-week  \\\n",
       "0  73.0           0.0        4356.0            1.0            85.0   \n",
       "1  56.0           0.0        4356.0            1.0            70.0   \n",
       "\n",
       "   race_White  sex_Male  marital-status  occupation  relationship  workclass  \n",
       "0         1.0       0.0             4.0         7.0           1.0        2.0  \n",
       "1         1.0       0.0             4.0         7.0           1.0        2.0  "
      ]
     },
     "metadata": {},
     "output_type": "display_data"
    },
    {
     "data": {
      "text/plain": [
       "14"
      ]
     },
     "metadata": {},
     "output_type": "display_data"
    },
    {
     "name": "stdout",
     "output_type": "stream",
     "text": [
      "1000000000000000.0\n",
      "x0 changes\n",
      "1000000000000000.0\n",
      "x0 changes\n",
      "1310.72\n",
      "out5: directly find a unfair pair when processing gradiant descent\n"
     ]
    },
    {
     "data": {
      "text/html": [
       "<div>\n",
       "<style scoped>\n",
       "    .dataframe tbody tr th:only-of-type {\n",
       "        vertical-align: middle;\n",
       "    }\n",
       "\n",
       "    .dataframe tbody tr th {\n",
       "        vertical-align: top;\n",
       "    }\n",
       "\n",
       "    .dataframe thead th {\n",
       "        text-align: right;\n",
       "    }\n",
       "</style>\n",
       "<table border=\"1\" class=\"dataframe\">\n",
       "  <thead>\n",
       "    <tr style=\"text-align: right;\">\n",
       "      <th></th>\n",
       "      <th>age</th>\n",
       "      <th>capital-gain</th>\n",
       "      <th>capital-loss</th>\n",
       "      <th>education-num</th>\n",
       "      <th>hours-per-week</th>\n",
       "      <th>race_White</th>\n",
       "      <th>sex_Male</th>\n",
       "      <th>marital-status</th>\n",
       "      <th>occupation</th>\n",
       "      <th>relationship</th>\n",
       "      <th>workclass</th>\n",
       "    </tr>\n",
       "  </thead>\n",
       "  <tbody>\n",
       "    <tr>\n",
       "      <th>0</th>\n",
       "      <td>73.0</td>\n",
       "      <td>0.0</td>\n",
       "      <td>4356.0</td>\n",
       "      <td>1.0</td>\n",
       "      <td>85.0</td>\n",
       "      <td>1.0</td>\n",
       "      <td>0.0</td>\n",
       "      <td>4.0</td>\n",
       "      <td>7.0</td>\n",
       "      <td>1.0</td>\n",
       "      <td>2.0</td>\n",
       "    </tr>\n",
       "    <tr>\n",
       "      <th>1</th>\n",
       "      <td>56.0</td>\n",
       "      <td>0.0</td>\n",
       "      <td>4356.0</td>\n",
       "      <td>1.0</td>\n",
       "      <td>70.0</td>\n",
       "      <td>1.0</td>\n",
       "      <td>0.0</td>\n",
       "      <td>4.0</td>\n",
       "      <td>7.0</td>\n",
       "      <td>1.0</td>\n",
       "      <td>2.0</td>\n",
       "    </tr>\n",
       "  </tbody>\n",
       "</table>\n",
       "</div>"
      ],
      "text/plain": [
       "    age  capital-gain  capital-loss  education-num  hours-per-week  \\\n",
       "0  73.0           0.0        4356.0            1.0            85.0   \n",
       "1  56.0           0.0        4356.0            1.0            70.0   \n",
       "\n",
       "   race_White  sex_Male  marital-status  occupation  relationship  workclass  \n",
       "0         1.0       0.0             4.0         7.0           1.0        2.0  \n",
       "1         1.0       0.0             4.0         7.0           1.0        2.0  "
      ]
     },
     "metadata": {},
     "output_type": "display_data"
    },
    {
     "data": {
      "text/plain": [
       "14"
      ]
     },
     "metadata": {},
     "output_type": "display_data"
    },
    {
     "name": "stdout",
     "output_type": "stream",
     "text": [
      "1000000000000000.0\n",
      "x0 changes\n",
      "102400000.0\n",
      "x0 changes\n",
      "4096000.0\n",
      "x0 changes\n",
      "4096000.0\n",
      "x0 changes\n",
      "4096000.0\n",
      "x0 changes\n",
      "4096000.0\n",
      "out5: directly find a unfair pair when processing gradiant descent\n"
     ]
    },
    {
     "data": {
      "text/html": [
       "<div>\n",
       "<style scoped>\n",
       "    .dataframe tbody tr th:only-of-type {\n",
       "        vertical-align: middle;\n",
       "    }\n",
       "\n",
       "    .dataframe tbody tr th {\n",
       "        vertical-align: top;\n",
       "    }\n",
       "\n",
       "    .dataframe thead th {\n",
       "        text-align: right;\n",
       "    }\n",
       "</style>\n",
       "<table border=\"1\" class=\"dataframe\">\n",
       "  <thead>\n",
       "    <tr style=\"text-align: right;\">\n",
       "      <th></th>\n",
       "      <th>age</th>\n",
       "      <th>capital-gain</th>\n",
       "      <th>capital-loss</th>\n",
       "      <th>education-num</th>\n",
       "      <th>hours-per-week</th>\n",
       "      <th>race_White</th>\n",
       "      <th>sex_Male</th>\n",
       "      <th>marital-status</th>\n",
       "      <th>occupation</th>\n",
       "      <th>relationship</th>\n",
       "      <th>workclass</th>\n",
       "    </tr>\n",
       "  </thead>\n",
       "  <tbody>\n",
       "    <tr>\n",
       "      <th>0</th>\n",
       "      <td>90.0</td>\n",
       "      <td>11682.0</td>\n",
       "      <td>0.0</td>\n",
       "      <td>16.0</td>\n",
       "      <td>99.0</td>\n",
       "      <td>1.0</td>\n",
       "      <td>0.0</td>\n",
       "      <td>4.0</td>\n",
       "      <td>7.0</td>\n",
       "      <td>1.0</td>\n",
       "      <td>2.0</td>\n",
       "    </tr>\n",
       "    <tr>\n",
       "      <th>1</th>\n",
       "      <td>90.0</td>\n",
       "      <td>8454.0</td>\n",
       "      <td>0.0</td>\n",
       "      <td>16.0</td>\n",
       "      <td>99.0</td>\n",
       "      <td>1.0</td>\n",
       "      <td>0.0</td>\n",
       "      <td>4.0</td>\n",
       "      <td>7.0</td>\n",
       "      <td>1.0</td>\n",
       "      <td>2.0</td>\n",
       "    </tr>\n",
       "  </tbody>\n",
       "</table>\n",
       "</div>"
      ],
      "text/plain": [
       "    age  capital-gain  capital-loss  education-num  hours-per-week  \\\n",
       "0  90.0       11682.0           0.0           16.0            99.0   \n",
       "1  90.0        8454.0           0.0           16.0            99.0   \n",
       "\n",
       "   race_White  sex_Male  marital-status  occupation  relationship  workclass  \n",
       "0         1.0       0.0             4.0         7.0           1.0        2.0  \n",
       "1         1.0       0.0             4.0         7.0           1.0        2.0  "
      ]
     },
     "metadata": {},
     "output_type": "display_data"
    },
    {
     "data": {
      "text/plain": [
       "15"
      ]
     },
     "metadata": {},
     "output_type": "display_data"
    }
   ],
   "source": [
    "random.seed(422)\n",
    "torch.manual_seed(422)\n",
    "\n",
    "white_seeker = White_seeker(model=model, unfair_metric=unfair_metric, data_gen=adult_gen)\n",
    "# show_result(white_seeker.seek())\n",
    "for _ in range(3):\n",
    "    show_result(white_seeker.seek(max_query=len(all_X)))"
   ]
  },
  {
   "cell_type": "code",
   "execution_count": 20,
   "metadata": {},
   "outputs": [],
   "source": [
    "# random.seed(422)\n",
    "# torch.manual_seed(422)\n",
    "\n",
    "# black_seeker = Black_seeker(model=model, unfair_metric=unfair_metric, data_gen=adult_gen)\n",
    "# show_result(black_seeker.seek(max_query=len(all_X)))"
   ]
  },
  {
   "cell_type": "code",
   "execution_count": null,
   "metadata": {},
   "outputs": [],
   "source": []
  }
 ],
 "metadata": {
  "kernelspec": {
   "display_name": "torch1.9",
   "language": "python",
   "name": "python3"
  },
  "language_info": {
   "codemirror_mode": {
    "name": "ipython",
    "version": 3
   },
   "file_extension": ".py",
   "mimetype": "text/x-python",
   "name": "python",
   "nbconvert_exporter": "python",
   "pygments_lexer": "ipython3",
   "version": "3.9.18"
  }
 },
 "nbformat": 4,
 "nbformat_minor": 2
}
