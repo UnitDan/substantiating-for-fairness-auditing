{
 "cells": [
  {
   "cell_type": "code",
   "execution_count": 1,
   "metadata": {},
   "outputs": [],
   "source": [
    "import torch\n",
    "import random\n",
    "from seeker.random import RandomSelectPairSeeker, RandomSelectSeeker, RangeGenSeeker, DistributionGenSeeker\n",
    "from seeker.gradiant_based import WhiteboxSeeker, BlackboxSeeker, FoolSeeker\n",
    "from utils import UnfairMetric, load_model\n",
    "from data import adult, german, loans_default\n",
    "from train_dnn import get_data\n",
    "from models.model import MLP\n",
    "from distances.normalized_mahalanobis_distances import ProtectedSEDistances\n",
    "from distances.sensitive_subspace_distances import LogisticRegSensitiveSubspace\n",
    "from distances.binary_distances import BinaryDistance\n",
    "from IPython.display import display\n",
    "\n",
    "%load_ext autoreload\n",
    "%autoreload 2"
   ]
  },
  {
   "cell_type": "code",
   "execution_count": 2,
   "metadata": {},
   "outputs": [],
   "source": [
    "# data\n",
    "data_name = 'adult'\n",
    "path = 'new' if data_name in ['census', 'loans_default'] else 'no_norm'\n",
    "use_sensitive_attr = True\n",
    "sensitive_vars = ['sex_Male']\n",
    "# model\n",
    "rand_seed = 0\n",
    "trainer_name = 'std'\n",
    "rho=0.1\n",
    "_note = ''\n",
    "note=_note if trainer_name == 'std' else _note + f'rho={rho}'\n",
    "# others\n",
    "device = 'cpu'"
   ]
  },
  {
   "cell_type": "code",
   "execution_count": 3,
   "metadata": {},
   "outputs": [],
   "source": [
    "data_choices = {\n",
    "    'adult': adult,\n",
    "    'german': german,\n",
    "    'loans_default': loans_default\n",
    "}\n",
    "data = data_choices[data_name]\n",
    "data_gen = data.Generator(use_sensitive_attr, sensitive_vars, device)\n",
    "\n",
    "dataset, train_dl, test_dl = get_data(data, rand_seed, sensitive_vars=sensitive_vars)\n",
    "dataset.use_sensitive_attr = use_sensitive_attr\n",
    "in_dim = dataset.dim_feature()\n",
    "out_dim = 2\n",
    "\n",
    "all_X, all_y = dataset.get_all_data(), dataset.labels"
   ]
  },
  {
   "cell_type": "code",
   "execution_count": 4,
   "metadata": {},
   "outputs": [],
   "source": [
    "model = MLP(in_dim, out_dim, data_gen=data_gen, n_layers=4, norm=False)\n",
    "load_model(model, data_name, trainer_name, use_sensitive_attr=use_sensitive_attr, \\\n",
    "           sensitive_vars=sensitive_vars, id=rand_seed, note=note, path=path)"
   ]
  },
  {
   "cell_type": "code",
   "execution_count": 5,
   "metadata": {},
   "outputs": [],
   "source": [
    "distance_x_Causal = ProtectedSEDistances()\n",
    "distance_x_LR = LogisticRegSensitiveSubspace()\n",
    "distance_y = BinaryDistance()\n",
    "\n",
    "if use_sensitive_attr:\n",
    "    distance_x_Causal.fit(num_dims=dataset.dim_feature(), data_gen=data_gen, sensitive_idx=dataset.sensitive_idxs)\n",
    "    chosen_dx = distance_x_Causal\n",
    "else:\n",
    "    sensitive_ = dataset.data[:, dataset.sensitive_idxs]\n",
    "    distance_x_LR.fit(dataset.get_all_data(), data_gen=data_gen, data_SensitiveAttrs=sensitive_)\n",
    "    chosen_dx = distance_x_LR"
   ]
  },
  {
   "cell_type": "code",
   "execution_count": 6,
   "metadata": {},
   "outputs": [
    {
     "data": {
      "text/plain": [
       "99997992.0"
      ]
     },
     "execution_count": 6,
     "metadata": {},
     "output_type": "execute_result"
    }
   ],
   "source": [
    "x = torch.zeros(chosen_dx.num_dims)\n",
    "pert = 10*torch.diag(torch.ones_like(x))\n",
    "g = torch.zeros_like(x)\n",
    "for i in range(g.shape[0]):\n",
    "    g[i] = chosen_dx(x, x+pert[i])\n",
    "epsilon = (1/torch.min(g[g!=0])).item()\n",
    "epsilon"
   ]
  },
  {
   "cell_type": "code",
   "execution_count": 7,
   "metadata": {},
   "outputs": [],
   "source": [
    "epsilon = 1e8\n",
    "unfair_metric = UnfairMetric(dx=chosen_dx, dy=distance_y, epsilon=epsilon)"
   ]
  },
  {
   "cell_type": "code",
   "execution_count": null,
   "metadata": {},
   "outputs": [],
   "source": []
  },
  {
   "cell_type": "code",
   "execution_count": 8,
   "metadata": {},
   "outputs": [],
   "source": [
    "def show_result(result):\n",
    "    pair, n_query = result[0], result[1]\n",
    "    if len(result) == 3:\n",
    "        print(f'n_iters = {result[2]}')\n",
    "    if pair != None:\n",
    "        display(data_gen.feature_dataframe(data = pair), n_query)\n",
    "    else:\n",
    "        display('not found')"
   ]
  },
  {
   "cell_type": "code",
   "execution_count": 9,
   "metadata": {},
   "outputs": [],
   "source": [
    "# random.seed(422)\n",
    "# torch.manual_seed(422)\n",
    "\n",
    "# select_seeker = RandomSelectSeeker(model=model, unfair_metric=unfair_metric, data=dataset.get_all_data(), data_gen=data_gen)\n",
    "# for _ in range(3):\n",
    "#     show_result(select_seeker.seek(max_query=1e5))"
   ]
  },
  {
   "cell_type": "code",
   "execution_count": 10,
   "metadata": {},
   "outputs": [],
   "source": [
    "# random.seed(422)\n",
    "# torch.manual_seed(422)\n",
    "\n",
    "# distribution_seeker = DistributionGenSeeker(model=model, unfair_metric=unfair_metric, data_gen=data_gen)\n",
    "# for _ in range(3):\n",
    "#     show_result(distribution_seeker.seek(max_query=1e5))"
   ]
  },
  {
   "cell_type": "code",
   "execution_count": 11,
   "metadata": {},
   "outputs": [],
   "source": [
    "# random.seed(422)\n",
    "# torch.manual_seed(422)\n",
    "\n",
    "# range_seeker = RangeGenSeeker(model=model, unfair_metric=unfair_metric, data_gen=data_gen)\n",
    "# for _ in range(3):\n",
    "#     show_result(range_seeker.seek(max_query=5e4, p_stop=0.7))"
   ]
  },
  {
   "cell_type": "code",
   "execution_count": 12,
   "metadata": {},
   "outputs": [],
   "source": [
    "# random.seed(42)\n",
    "# torch.manual_seed(42)\n",
    "\n",
    "# test_seeker = WhiteboxSeeker(model=model, unfair_metric=unfair_metric, data_gen=data_gen)\n",
    "# for i in range(3):\n",
    "#     display(f'try: {i}')\n",
    "#     show_result(test_seeker.seek(origin_lr=0.01, max_query=1e5, lamb=1))"
   ]
  },
  {
   "cell_type": "code",
   "execution_count": 13,
   "metadata": {},
   "outputs": [
    {
     "name": "stdout",
     "output_type": "stream",
     "text": [
      "0.0001\n"
     ]
    },
    {
     "data": {
      "text/plain": [
       "'try: 0'"
      ]
     },
     "metadata": {},
     "output_type": "display_data"
    },
    {
     "name": "stderr",
     "output_type": "stream",
     "text": [
      "/home/liuyuanhao/miniconda3/envs/torch1.9/lib/python3.9/site-packages/torch/_functorch/deprecated.py:58: UserWarning: We've integrated functorch into PyTorch. As the final step of the integration, functorch.vmap is deprecated as of PyTorch 2.0 and will be deleted in a future version of PyTorch >= 2.3. Please use torch.vmap instead; see the PyTorch 2.0 release notes and/or the torch.func migration guide for more details https://pytorch.org/docs/master/func.migrating.html\n",
      "  warn_deprecated('vmap', 'torch.vmap')\n"
     ]
    },
    {
     "data": {
      "text/plain": [
       "'try: 1'"
      ]
     },
     "metadata": {},
     "output_type": "display_data"
    },
    {
     "data": {
      "text/plain": [
       "'try: 2'"
      ]
     },
     "metadata": {},
     "output_type": "display_data"
    },
    {
     "data": {
      "text/plain": [
       "'try: 3'"
      ]
     },
     "metadata": {},
     "output_type": "display_data"
    },
    {
     "data": {
      "text/plain": [
       "'try: 4'"
      ]
     },
     "metadata": {},
     "output_type": "display_data"
    },
    {
     "data": {
      "text/plain": [
       "'try: 5'"
      ]
     },
     "metadata": {},
     "output_type": "display_data"
    },
    {
     "data": {
      "text/plain": [
       "'try: 6'"
      ]
     },
     "metadata": {},
     "output_type": "display_data"
    },
    {
     "data": {
      "text/plain": [
       "'try: 7'"
      ]
     },
     "metadata": {},
     "output_type": "display_data"
    },
    {
     "data": {
      "text/plain": [
       "'try: 8'"
      ]
     },
     "metadata": {},
     "output_type": "display_data"
    },
    {
     "data": {
      "text/plain": [
       "'try: 9'"
      ]
     },
     "metadata": {},
     "output_type": "display_data"
    },
    {
     "name": "stdout",
     "output_type": "stream",
     "text": [
      "1271.4\n",
      "589.5440950429407\n",
      "0.001\n"
     ]
    },
    {
     "data": {
      "text/plain": [
       "'try: 0'"
      ]
     },
     "metadata": {},
     "output_type": "display_data"
    },
    {
     "data": {
      "text/plain": [
       "'try: 1'"
      ]
     },
     "metadata": {},
     "output_type": "display_data"
    },
    {
     "data": {
      "text/plain": [
       "'try: 2'"
      ]
     },
     "metadata": {},
     "output_type": "display_data"
    },
    {
     "data": {
      "text/plain": [
       "'try: 3'"
      ]
     },
     "metadata": {},
     "output_type": "display_data"
    },
    {
     "data": {
      "text/plain": [
       "'try: 4'"
      ]
     },
     "metadata": {},
     "output_type": "display_data"
    },
    {
     "data": {
      "text/plain": [
       "'try: 5'"
      ]
     },
     "metadata": {},
     "output_type": "display_data"
    },
    {
     "data": {
      "text/plain": [
       "'try: 6'"
      ]
     },
     "metadata": {},
     "output_type": "display_data"
    },
    {
     "data": {
      "text/plain": [
       "'try: 7'"
      ]
     },
     "metadata": {},
     "output_type": "display_data"
    },
    {
     "data": {
      "text/plain": [
       "'try: 8'"
      ]
     },
     "metadata": {},
     "output_type": "display_data"
    },
    {
     "data": {
      "text/plain": [
       "'try: 9'"
      ]
     },
     "metadata": {},
     "output_type": "display_data"
    },
    {
     "name": "stdout",
     "output_type": "stream",
     "text": [
      "11135.2\n",
      "19466.68377407924\n",
      "0.01\n"
     ]
    },
    {
     "data": {
      "text/plain": [
       "'try: 0'"
      ]
     },
     "metadata": {},
     "output_type": "display_data"
    },
    {
     "data": {
      "text/plain": [
       "'try: 1'"
      ]
     },
     "metadata": {},
     "output_type": "display_data"
    },
    {
     "data": {
      "text/plain": [
       "'try: 2'"
      ]
     },
     "metadata": {},
     "output_type": "display_data"
    },
    {
     "data": {
      "text/plain": [
       "'try: 3'"
      ]
     },
     "metadata": {},
     "output_type": "display_data"
    },
    {
     "data": {
      "text/plain": [
       "'try: 4'"
      ]
     },
     "metadata": {},
     "output_type": "display_data"
    },
    {
     "data": {
      "text/plain": [
       "'try: 5'"
      ]
     },
     "metadata": {},
     "output_type": "display_data"
    },
    {
     "data": {
      "text/plain": [
       "'try: 6'"
      ]
     },
     "metadata": {},
     "output_type": "display_data"
    },
    {
     "data": {
      "text/plain": [
       "'try: 7'"
      ]
     },
     "metadata": {},
     "output_type": "display_data"
    },
    {
     "data": {
      "text/plain": [
       "'try: 8'"
      ]
     },
     "metadata": {},
     "output_type": "display_data"
    },
    {
     "data": {
      "text/plain": [
       "'try: 9'"
      ]
     },
     "metadata": {},
     "output_type": "display_data"
    },
    {
     "name": "stdout",
     "output_type": "stream",
     "text": [
      "1163.7\n",
      "330.84257585746127\n",
      "0.1\n"
     ]
    },
    {
     "data": {
      "text/plain": [
       "'try: 0'"
      ]
     },
     "metadata": {},
     "output_type": "display_data"
    },
    {
     "data": {
      "text/plain": [
       "'try: 1'"
      ]
     },
     "metadata": {},
     "output_type": "display_data"
    },
    {
     "data": {
      "text/plain": [
       "'try: 2'"
      ]
     },
     "metadata": {},
     "output_type": "display_data"
    },
    {
     "data": {
      "text/plain": [
       "'try: 3'"
      ]
     },
     "metadata": {},
     "output_type": "display_data"
    },
    {
     "data": {
      "text/plain": [
       "'try: 4'"
      ]
     },
     "metadata": {},
     "output_type": "display_data"
    },
    {
     "data": {
      "text/plain": [
       "'try: 5'"
      ]
     },
     "metadata": {},
     "output_type": "display_data"
    },
    {
     "data": {
      "text/plain": [
       "'try: 6'"
      ]
     },
     "metadata": {},
     "output_type": "display_data"
    },
    {
     "data": {
      "text/plain": [
       "'try: 7'"
      ]
     },
     "metadata": {},
     "output_type": "display_data"
    },
    {
     "data": {
      "text/plain": [
       "'try: 8'"
      ]
     },
     "metadata": {},
     "output_type": "display_data"
    },
    {
     "data": {
      "text/plain": [
       "'try: 9'"
      ]
     },
     "metadata": {},
     "output_type": "display_data"
    },
    {
     "name": "stdout",
     "output_type": "stream",
     "text": [
      "3046.7\n",
      "5553.495620777961\n"
     ]
    }
   ],
   "source": [
    "random.seed(422)\n",
    "torch.manual_seed(422)\n",
    "import numpy as np  \n",
    "\n",
    "for xi in [0.0001, 0.001, 0.01, 0.1]:\n",
    "    print(xi)\n",
    "    test_seeker = BlackboxSeeker(model=model, unfair_metric=unfair_metric, data_gen=data_gen, easy=False)\n",
    "    n = []\n",
    "    for i in range(10):\n",
    "        display(f'try: {i}')\n",
    "        result = test_seeker.seek(origin_lr=0.1, max_query=5e4, lamb=0.5)\n",
    "        # show_result(result)\n",
    "        n.append(result[1])\n",
    "    print(np.mean(n))\n",
    "    print(np.std(n))"
   ]
  },
  {
   "cell_type": "code",
   "execution_count": 14,
   "metadata": {},
   "outputs": [],
   "source": [
    "# random.seed(422)\n",
    "# torch.manual_seed(422)\n",
    "\n",
    "# test_seeker = BlackboxSeeker(model=model, unfair_metric=unfair_metric, data_gen=data_gen, easy=True)\n",
    "# for i in range(3):\n",
    "#     display(f'try: {i}')\n",
    "#     show_result(test_seeker.seek(origin_lr=0.1, max_query=1e5, lamb=1))"
   ]
  },
  {
   "cell_type": "code",
   "execution_count": null,
   "metadata": {},
   "outputs": [],
   "source": []
  }
 ],
 "metadata": {
  "kernelspec": {
   "display_name": "torch1.9",
   "language": "python",
   "name": "python3"
  },
  "language_info": {
   "codemirror_mode": {
    "name": "ipython",
    "version": 3
   },
   "file_extension": ".py",
   "mimetype": "text/x-python",
   "name": "python",
   "nbconvert_exporter": "python",
   "pygments_lexer": "ipython3",
   "version": "3.9.18"
  }
 },
 "nbformat": 4,
 "nbformat_minor": 2
}
