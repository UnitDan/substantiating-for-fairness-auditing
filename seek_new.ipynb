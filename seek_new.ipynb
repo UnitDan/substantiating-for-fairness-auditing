{
 "cells": [
  {
   "cell_type": "code",
   "execution_count": 1,
   "metadata": {},
   "outputs": [],
   "source": [
    "import torch\n",
    "import random\n",
    "from old_seeker import White_seeker, Random_select_seeker, Random_gen_seeker, Black_seeker, Test_seeker, Norm_Test_seeker, Random_gen_gradiant_seeker\n",
    "from seeker.gradiant_based import WhiteboxSeeker, BlackboxSeeker\n",
    "from utils import UnfairMetric, load_model, get_L_matrix\n",
    "from data import adult\n",
    "from train_dnn import get_data\n",
    "from dnn_models.model import MLP, NormMLP\n",
    "from distances.normalized_mahalanobis_distances import SquaredEuclideanDistance, ProtectedSEDistances\n",
    "from distances.sensitive_subspace_distances import LogisticRegSensitiveSubspace\n",
    "from distances.binary_distances import BinaryDistance\n",
    "from torch.utils.data import DataLoader\n",
    "from tqdm.notebook import tqdm\n",
    "from IPython.display import display\n",
    "\n",
    "%load_ext autoreload\n",
    "%autoreload 2"
   ]
  },
  {
   "cell_type": "code",
   "execution_count": 2,
   "metadata": {},
   "outputs": [],
   "source": [
    "rand_seed = 0\n",
    "use_protected_attr = True\n",
    "protected_vars = ['race_White']\n",
    "# protected_vars = ['sex_Male', 'race_White']\n",
    "\n",
    "dataset, train_dl, test_dl = get_data(adult, rand_seed, protected_vars=protected_vars)\n",
    "dataset.use_protected_attr = use_protected_attr\n",
    "in_dim = dataset.dim_feature()\n",
    "out_dim = 2\n",
    "\n",
    "# prepare data\n",
    "all_X, all_y = dataset.get_all_data(), dataset.labels\n",
    "\n",
    "adult_gen = adult.Generator(sensitive_columns=dataset.protected_idxs, include_protected_feature=use_protected_attr)"
   ]
  },
  {
   "cell_type": "code",
   "execution_count": 3,
   "metadata": {},
   "outputs": [],
   "source": [
    "model = MLP(in_dim, out_dim)\n",
    "load_model(model, 'MLP', 'adult', 'STDTrainer', use_protected_attr=use_protected_attr, \\\n",
    "           protected_vars=protected_vars, id=rand_seed)\n",
    "\n",
    "# model = NormMLP(in_dim, out_dim, adult_gen.get_range('data'))\n",
    "# load_model(model, 'NormMLP', 'adult', 'STDTrainer', use_protected_attr=use_protected_attr, \\\n",
    "#            protected_vars=protected_vars, id=rand_seed)\n",
    "\n",
    "# all_pred = model.get_prediction(all_X)"
   ]
  },
  {
   "cell_type": "code",
   "execution_count": 4,
   "metadata": {},
   "outputs": [],
   "source": [
    "# prepare distances\n",
    "distance_x_NSE = SquaredEuclideanDistance()\n",
    "distance_x_Causal = ProtectedSEDistances()\n",
    "distance_x_LR = LogisticRegSensitiveSubspace()\n",
    "distance_y = BinaryDistance()\n",
    "\n",
    "distance_x_NSE.fit(num_dims=dataset.dim_feature(), data_gen=adult_gen)\n",
    "distance_x_Causal.fit(num_dims=dataset.dim_feature(), data_gen=adult_gen, protected_idx=dataset.protected_idxs)\n",
    "distance_x_LR.fit(all_X, adult_gen, protected_idxs=dataset.protected_idxs)"
   ]
  },
  {
   "cell_type": "code",
   "execution_count": 5,
   "metadata": {},
   "outputs": [],
   "source": [
    "def rand_gen():\n",
    "    return {\n",
    "        'age': random.randint(15, 60),\n",
    "        'capital_gain': 0,\n",
    "        'capital_loss': 0,\n",
    "        'education_num': random.randint(1, 15),\n",
    "        'hours_per_week': random.randint(10, 50),\n",
    "        'race_white': random.choice([0, 1]),\n",
    "        'sex_male': random.choice([0, 1]),\n",
    "        'marital_status': random.choice(list(range(7))),\n",
    "        'occupation': random.choice(list(range(14))),\n",
    "        'relationship': random.choice(list(range(6))),\n",
    "        'workclass': random.choice(list(range(7)))\n",
    "    }\n",
    "\n",
    "def perturb_pair(x, pert_features, pert_func):\n",
    "    pair = dict()\n",
    "    for k, v in x.items():\n",
    "        pair[k] = torch.tensor([v, v])\n",
    "        if k in pert_features:\n",
    "            pair[k][1] = pert_func(pair[k][0])\n",
    "    return pair\n",
    "\n",
    "x = rand_gen()\n",
    "# pair = adult.generate_from_origin(**perturb_pair(x, ['sex_male', 'race_white'], lambda x:1-x))\n",
    "# adult.get_original_feature(pair)"
   ]
  },
  {
   "cell_type": "code",
   "execution_count": 6,
   "metadata": {},
   "outputs": [
    {
     "data": {
      "text/html": [
       "<div>\n",
       "<style scoped>\n",
       "    .dataframe tbody tr th:only-of-type {\n",
       "        vertical-align: middle;\n",
       "    }\n",
       "\n",
       "    .dataframe tbody tr th {\n",
       "        vertical-align: top;\n",
       "    }\n",
       "\n",
       "    .dataframe thead th {\n",
       "        text-align: right;\n",
       "    }\n",
       "</style>\n",
       "<table border=\"1\" class=\"dataframe\">\n",
       "  <thead>\n",
       "    <tr style=\"text-align: right;\">\n",
       "      <th></th>\n",
       "      <th>age</th>\n",
       "      <th>capital-gain</th>\n",
       "      <th>capital-loss</th>\n",
       "      <th>education-num</th>\n",
       "      <th>hours-per-week</th>\n",
       "      <th>race_White</th>\n",
       "      <th>sex_Male</th>\n",
       "      <th>marital-status</th>\n",
       "      <th>occupation</th>\n",
       "      <th>relationship</th>\n",
       "      <th>workclass</th>\n",
       "    </tr>\n",
       "  </thead>\n",
       "  <tbody>\n",
       "    <tr>\n",
       "      <th>0</th>\n",
       "      <td>38.0</td>\n",
       "      <td>0.0</td>\n",
       "      <td>0.0</td>\n",
       "      <td>12.0</td>\n",
       "      <td>27.0</td>\n",
       "      <td>0.0</td>\n",
       "      <td>1.0</td>\n",
       "      <td>4.0</td>\n",
       "      <td>11.0</td>\n",
       "      <td>0.0</td>\n",
       "      <td>1.0</td>\n",
       "    </tr>\n",
       "    <tr>\n",
       "      <th>1</th>\n",
       "      <td>38.0</td>\n",
       "      <td>0.0</td>\n",
       "      <td>1.0</td>\n",
       "      <td>12.0</td>\n",
       "      <td>27.0</td>\n",
       "      <td>0.0</td>\n",
       "      <td>1.0</td>\n",
       "      <td>4.0</td>\n",
       "      <td>11.0</td>\n",
       "      <td>0.0</td>\n",
       "      <td>1.0</td>\n",
       "    </tr>\n",
       "  </tbody>\n",
       "</table>\n",
       "</div>"
      ],
      "text/plain": [
       "    age  capital-gain  capital-loss  education-num  hours-per-week  \\\n",
       "0  38.0           0.0           0.0           12.0            27.0   \n",
       "1  38.0           0.0           1.0           12.0            27.0   \n",
       "\n",
       "   race_White  sex_Male  marital-status  occupation  relationship  workclass  \n",
       "0         0.0       1.0             4.0        11.0           0.0        1.0  \n",
       "1         0.0       1.0             4.0        11.0           0.0        1.0  "
      ]
     },
     "execution_count": 6,
     "metadata": {},
     "output_type": "execute_result"
    }
   ],
   "source": [
    "pair = adult.generate_from_origin(**perturb_pair(x, ['capital_loss'], lambda x:1+x))\n",
    "adult.get_original_feature(pair)"
   ]
  },
  {
   "cell_type": "code",
   "execution_count": 7,
   "metadata": {},
   "outputs": [],
   "source": [
    "# dist = distance_x_LR(all_X[0], all_X[0] + torch.eye(all_X.shape[1]), itemwise_dist=False).squeeze()\n",
    "# print(dist)\n",
    "# print(dist[dataset.protected_idxs])"
   ]
  },
  {
   "cell_type": "code",
   "execution_count": 8,
   "metadata": {},
   "outputs": [],
   "source": [
    "# 1/1e-10"
   ]
  },
  {
   "cell_type": "code",
   "execution_count": 9,
   "metadata": {},
   "outputs": [
    {
     "name": "stdout",
     "output_type": "stream",
     "text": [
      "tensor([1.8081e-04, 9.9866e-11, 5.1967e-08, 4.4074e-03, 1.0411e-04, 9.1793e-01,\n",
      "        9.9521e-01, 1.0000e+00, 9.9131e-01, 9.9849e-01, 9.9440e-01, 9.2576e-01,\n",
      "        9.9944e-01, 9.7467e-01, 9.8442e-01, 9.7501e-01, 9.4209e-01, 9.9902e-01,\n",
      "        9.8413e-01, 9.8653e-01, 9.9295e-01, 9.8633e-01, 9.9348e-01, 9.8243e-01,\n",
      "        9.9697e-01, 9.9736e-01, 0.0000e+00, 9.3236e-01, 9.9929e-01, 9.2443e-01,\n",
      "        1.0000e+00, 8.9661e-01, 9.9140e-01, 9.9605e-01, 9.5576e-01, 1.0000e+00,\n",
      "        9.7955e-01, 8.9331e-01, 8.9278e-01, 9.9982e-01, 9.8102e-01])\n",
      "tensor([0.])\n"
     ]
    }
   ],
   "source": [
    "dist = distance_x_LR(all_X[0], all_X[0] + torch.eye(all_X.shape[1]), itemwise_dist=False).squeeze()\n",
    "print(dist)\n",
    "print(dist[dataset.protected_idxs])"
   ]
  },
  {
   "cell_type": "markdown",
   "metadata": {},
   "source": [
    "设置之后允许每一维变多少"
   ]
  },
  {
   "cell_type": "code",
   "execution_count": null,
   "metadata": {},
   "outputs": [],
   "source": []
  },
  {
   "cell_type": "code",
   "execution_count": 10,
   "metadata": {},
   "outputs": [],
   "source": [
    "# x = rand_gen()\n",
    "# for key in x:\n",
    "#     pair = adult.generate_from_origin(**perturb_pair(x, key, x[key]+1))\n",
    "#     print(distance_x_NSE(pair[0], pair[1]), 1 / distance_x_NSE(pair[0], pair[1]))"
   ]
  },
  {
   "cell_type": "code",
   "execution_count": 11,
   "metadata": {},
   "outputs": [],
   "source": [
    "# epsilon越大，要求不公平样本对dx越小，越严格\n",
    "# epsilon = 1e10\n",
    "epsilon = 9e9\n",
    "unfair_metric = UnfairMetric(dx=distance_x_LR, dy=distance_y, epsilon=epsilon)"
   ]
  },
  {
   "cell_type": "code",
   "execution_count": 12,
   "metadata": {},
   "outputs": [],
   "source": [
    "# L = get_L_matrix(all_X, all_pred, distance_x_Causal, distance_y)\n",
    "# n_unfair = torch.sum(L>epsilon).item()\n",
    "\n",
    "# total_pairs = all_X.shape[0]**2\n",
    "\n",
    "# unfair_ratio = n_unfair/total_pairs\n",
    "# unfair_ratio"
   ]
  },
  {
   "cell_type": "code",
   "execution_count": 13,
   "metadata": {},
   "outputs": [],
   "source": [
    "# 1/unfair_ratio"
   ]
  },
  {
   "cell_type": "code",
   "execution_count": 14,
   "metadata": {},
   "outputs": [],
   "source": [
    "# p_success = lambda n: 1 - (1 - unfair_ratio)**n\n",
    "# for i in range(10):\n",
    "#     if p_success(10**i) > 1/100:\n",
    "#         print(10**i, p_success(10**i))"
   ]
  },
  {
   "cell_type": "code",
   "execution_count": 15,
   "metadata": {},
   "outputs": [],
   "source": [
    "def show_result(result):\n",
    "    pair, n_query = result\n",
    "    if pair != None:\n",
    "        display(adult.get_original_feature(pair), n_query)\n",
    "    else:\n",
    "        print('not found')"
   ]
  },
  {
   "cell_type": "code",
   "execution_count": 16,
   "metadata": {},
   "outputs": [],
   "source": [
    "# random.seed(422)\n",
    "# torch.manual_seed(422)\n",
    "\n",
    "# select_seeker = Random_select_seeker(model=model, unfair_metric=unfair_metric, data=all_X)\n",
    "# for _ in range(5):\n",
    "#     show_result(select_seeker.seek(dx_constraint=True, max_query=1e6))"
   ]
  },
  {
   "cell_type": "code",
   "execution_count": 17,
   "metadata": {},
   "outputs": [],
   "source": [
    "# random.seed(422)\n",
    "# torch.manual_seed(422)\n",
    "\n",
    "# gen_seeker = Random_gen_seeker(model=model, unfair_metric=unfair_metric, data_gen=adult_gen)\n",
    "# for _ in range(3):\n",
    "#     show_result(gen_seeker.seek(by_range=True, max_query=1e6))"
   ]
  },
  {
   "cell_type": "code",
   "execution_count": 18,
   "metadata": {},
   "outputs": [],
   "source": [
    "# random.seed(422)\n",
    "# torch.manual_seed(422)\n",
    "\n",
    "# for _ in range(3):\n",
    "#     show_result(gen_seeker.seek(by_range=False, max_query=1e6))"
   ]
  },
  {
   "cell_type": "code",
   "execution_count": 19,
   "metadata": {},
   "outputs": [],
   "source": [
    "# adult_gen.get_range('data')"
   ]
  },
  {
   "cell_type": "code",
   "execution_count": 20,
   "metadata": {},
   "outputs": [],
   "source": [
    "# random.seed(422)\n",
    "# torch.manual_seed(422)\n",
    "\n",
    "# white_seeker = White_seeker(model=model, unfair_metric=unfair_metric, data_gen=adult_gen)\n",
    "# # show_result(white_seeker.seek())\n",
    "# for _ in range(5):\n",
    "#     show_result(white_seeker.seek(origin_lr=10, max_query=1e6))"
   ]
  },
  {
   "cell_type": "code",
   "execution_count": 21,
   "metadata": {},
   "outputs": [],
   "source": [
    "# random.seed(422)\n",
    "# torch.manual_seed(422)\n",
    "\n",
    "# black_seeker = Black_seeker(model=model, unfair_metric=unfair_metric, data_gen=adult_gen)\n",
    "# for _ in range(5):\n",
    "#     show_result(black_seeker.seek(max_query=1e6))"
   ]
  },
  {
   "cell_type": "code",
   "execution_count": 22,
   "metadata": {},
   "outputs": [],
   "source": [
    "# random.seed(422)\n",
    "# torch.manual_seed(422)\n",
    "\n",
    "# test_seeker = Norm_Test_seeker(model=model, unfair_metric=unfair_metric, data_gen=adult_gen)\n",
    "# show_result(white_seeker.seek())\n",
    "# for _ in range(1):\n",
    "#     show_result(test_seeker.seek(black_box=False, origin_lr1=1, max_query=1e6))"
   ]
  },
  {
   "cell_type": "code",
   "execution_count": 26,
   "metadata": {},
   "outputs": [
    {
     "name": "stdout",
     "output_type": "stream",
     "text": [
      "continue 84\n",
      "continue 167\n",
      "continue 250\n",
      "continue 333\n",
      "continue 416\n",
      "continue 499\n",
      "continue 582\n",
      "lr/=5 665\n",
      "continue 666\n",
      "continue 749\n",
      "continue 832\n",
      "continue 915\n",
      "lr/=5 998\n",
      "continue 999\n",
      "continue 1082\n",
      "lr/=5 1165\n",
      "continue 1166\n",
      "lr/=5 1249\n",
      "continue 1250\n",
      "continue 1333\n",
      "continue 1416\n",
      "lr/=5 1499\n",
      "continue 1500\n",
      "lr/=5 1583\n",
      "continue 1584\n",
      "continue 1667\n",
      "lr/=5 1750\n",
      "lr/=5 1751\n",
      "converge 1752\n",
      "tensor([   38, 37125,  2409,     6,     5,     0,     0,     0,     0,     1,\n",
      "            0,     0,     0,     0,     0,     0,     0,     0,     0,     0,\n",
      "            0,     0,     0,     0,     1,     0,     0,     1,     0,     0,\n",
      "            0,     0,     0,     0,     0,     0,     1,     0,     0,     0,\n",
      "            0], dtype=torch.int32) tensor(0, dtype=torch.int32)\n",
      "tensor([[-7.2719, 12.6854]], grad_fn=<AddmmBackward0>)\n",
      "tensor([  38,   64, 2157,    6,    6,    0,    0,    0,    0,    1,    0,    0,\n",
      "           0,    0,    0,    0,    0,    0,    0,    0,    0,    0,    0,    0,\n",
      "           1,    0,    0,    1,    0,    0,    0,    0,    0,    0,    0,    0,\n",
      "           1,    0,    0,    0,    0], dtype=torch.int32) tensor(0, dtype=torch.int32) 1752\n",
      "tensor([[0.1603, 0.1656]], grad_fn=<AddmmBackward0>)\n"
     ]
    },
    {
     "data": {
      "text/html": [
       "<div>\n",
       "<style scoped>\n",
       "    .dataframe tbody tr th:only-of-type {\n",
       "        vertical-align: middle;\n",
       "    }\n",
       "\n",
       "    .dataframe tbody tr th {\n",
       "        vertical-align: top;\n",
       "    }\n",
       "\n",
       "    .dataframe thead th {\n",
       "        text-align: right;\n",
       "    }\n",
       "</style>\n",
       "<table border=\"1\" class=\"dataframe\">\n",
       "  <thead>\n",
       "    <tr style=\"text-align: right;\">\n",
       "      <th></th>\n",
       "      <th>age</th>\n",
       "      <th>capital-gain</th>\n",
       "      <th>capital-loss</th>\n",
       "      <th>education-num</th>\n",
       "      <th>hours-per-week</th>\n",
       "      <th>race_White</th>\n",
       "      <th>sex_Male</th>\n",
       "      <th>marital-status</th>\n",
       "      <th>occupation</th>\n",
       "      <th>relationship</th>\n",
       "      <th>workclass</th>\n",
       "    </tr>\n",
       "  </thead>\n",
       "  <tbody>\n",
       "    <tr>\n",
       "      <th>0</th>\n",
       "      <td>38.0</td>\n",
       "      <td>64.0</td>\n",
       "      <td>2157.0</td>\n",
       "      <td>6.0</td>\n",
       "      <td>6.0</td>\n",
       "      <td>0.0</td>\n",
       "      <td>0.0</td>\n",
       "      <td>4.0</td>\n",
       "      <td>12.0</td>\n",
       "      <td>0.0</td>\n",
       "      <td>2.0</td>\n",
       "    </tr>\n",
       "    <tr>\n",
       "      <th>1</th>\n",
       "      <td>38.0</td>\n",
       "      <td>64.0</td>\n",
       "      <td>2157.0</td>\n",
       "      <td>6.0</td>\n",
       "      <td>6.0</td>\n",
       "      <td>1.0</td>\n",
       "      <td>0.0</td>\n",
       "      <td>4.0</td>\n",
       "      <td>12.0</td>\n",
       "      <td>0.0</td>\n",
       "      <td>2.0</td>\n",
       "    </tr>\n",
       "  </tbody>\n",
       "</table>\n",
       "</div>"
      ],
      "text/plain": [
       "    age  capital-gain  capital-loss  education-num  hours-per-week  \\\n",
       "0  38.0          64.0        2157.0            6.0             6.0   \n",
       "1  38.0          64.0        2157.0            6.0             6.0   \n",
       "\n",
       "   race_White  sex_Male  marital-status  occupation  relationship  workclass  \n",
       "0         0.0       0.0             4.0        12.0           0.0        2.0  \n",
       "1         1.0       0.0             4.0        12.0           0.0        2.0  "
      ]
     },
     "metadata": {},
     "output_type": "display_data"
    },
    {
     "data": {
      "text/plain": [
       "1834"
      ]
     },
     "metadata": {},
     "output_type": "display_data"
    }
   ],
   "source": [
    "random.seed(422)\n",
    "torch.manual_seed(422)\n",
    "\n",
    "test_seeker = Norm_Test_seeker(model=model, unfair_metric=unfair_metric, data_gen=adult_gen)\n",
    "for _ in range(1):\n",
    "    show_result(test_seeker.seek(black_box=True, origin_lr1=1, max_query=1e6))"
   ]
  },
  {
   "cell_type": "code",
   "execution_count": 27,
   "metadata": {},
   "outputs": [],
   "source": [
    "# random.seed(422)\n",
    "# torch.manual_seed(422)\n",
    "\n",
    "# test_seeker = WhiteboxSeeker(model=model, unfair_metric=unfair_metric, data_gen=adult_gen)\n",
    "# # show_result(white_seeker.seek())\n",
    "# for _ in range(1):\n",
    "#     show_result(test_seeker.seek(origin_lr=1, max_query=1000, lamb=1))"
   ]
  },
  {
   "cell_type": "code",
   "execution_count": 31,
   "metadata": {},
   "outputs": [
    {
     "name": "stdout",
     "output_type": "stream",
     "text": [
      "continue 84\n",
      "continue 167\n",
      "continue 250\n",
      "lr/=5 333\n",
      "continue 334\n",
      "continue 417\n",
      "lr/=5 500\n",
      "continue 501\n",
      "lr/=5 584\n",
      "continue 585\n",
      "continue 668\n",
      "continue 751\n",
      "continue 834\n",
      "continue 917\n",
      "lr/=5 1000\n",
      "lr/=5 1001\n",
      "continue 1002\n",
      "lr/=5 1085\n",
      "continue 1086\n",
      "continue 1169\n",
      "continue 1252\n",
      "continue 1335\n",
      "lr/=5 1418\n",
      "continue 1419\n",
      "continue 1502\n",
      "lr/=5 1585\n",
      "converge: 1586\n",
      "tensor([   38, 37125,  2409,     6,     5,     0,     0,     0,     0,     1,\n",
      "            0,     0,     0,     0,     0,     0,     0,     0,     0,     0,\n",
      "            0,     0,     0,     0,     1,     0,     0,     1,     0,     0,\n",
      "            0,     0,     0,     0,     0,     0,     1,     0,     0,     0,\n",
      "            0], dtype=torch.int32) tensor(0, dtype=torch.int32)\n",
      "tensor([[-7.2719, 12.6854]], grad_fn=<AddmmBackward0>)\n",
      "tensor([  38,   59, 2220,    6,    6,    0,    0,    0,    0,    1,    0,    0,\n",
      "           0,    0,    0,    0,    0,    0,    0,    0,    0,    0,    0,    0,\n",
      "           1,    0,    0,    1,    0,    0,    0,    0,    0,    0,    0,    0,\n",
      "           1,    0,    0,    0,    0], dtype=torch.int32) tensor(0, dtype=torch.int32) 1586\n",
      "tensor([[0.1934, 0.1938]], grad_fn=<AddmmBackward0>)\n"
     ]
    },
    {
     "data": {
      "text/html": [
       "<div>\n",
       "<style scoped>\n",
       "    .dataframe tbody tr th:only-of-type {\n",
       "        vertical-align: middle;\n",
       "    }\n",
       "\n",
       "    .dataframe tbody tr th {\n",
       "        vertical-align: top;\n",
       "    }\n",
       "\n",
       "    .dataframe thead th {\n",
       "        text-align: right;\n",
       "    }\n",
       "</style>\n",
       "<table border=\"1\" class=\"dataframe\">\n",
       "  <thead>\n",
       "    <tr style=\"text-align: right;\">\n",
       "      <th></th>\n",
       "      <th>age</th>\n",
       "      <th>capital-gain</th>\n",
       "      <th>capital-loss</th>\n",
       "      <th>education-num</th>\n",
       "      <th>hours-per-week</th>\n",
       "      <th>race_White</th>\n",
       "      <th>sex_Male</th>\n",
       "      <th>marital-status</th>\n",
       "      <th>occupation</th>\n",
       "      <th>relationship</th>\n",
       "      <th>workclass</th>\n",
       "    </tr>\n",
       "  </thead>\n",
       "  <tbody>\n",
       "    <tr>\n",
       "      <th>0</th>\n",
       "      <td>38.0</td>\n",
       "      <td>59.0</td>\n",
       "      <td>2220.0</td>\n",
       "      <td>6.0</td>\n",
       "      <td>6.0</td>\n",
       "      <td>0.0</td>\n",
       "      <td>0.0</td>\n",
       "      <td>4.0</td>\n",
       "      <td>12.0</td>\n",
       "      <td>0.0</td>\n",
       "      <td>2.0</td>\n",
       "    </tr>\n",
       "    <tr>\n",
       "      <th>1</th>\n",
       "      <td>38.0</td>\n",
       "      <td>59.0</td>\n",
       "      <td>2220.0</td>\n",
       "      <td>6.0</td>\n",
       "      <td>6.0</td>\n",
       "      <td>1.0</td>\n",
       "      <td>0.0</td>\n",
       "      <td>4.0</td>\n",
       "      <td>12.0</td>\n",
       "      <td>0.0</td>\n",
       "      <td>2.0</td>\n",
       "    </tr>\n",
       "  </tbody>\n",
       "</table>\n",
       "</div>"
      ],
      "text/plain": [
       "    age  capital-gain  capital-loss  education-num  hours-per-week  \\\n",
       "0  38.0          59.0        2220.0            6.0             6.0   \n",
       "1  38.0          59.0        2220.0            6.0             6.0   \n",
       "\n",
       "   race_White  sex_Male  marital-status  occupation  relationship  workclass  \n",
       "0         0.0       0.0             4.0        12.0           0.0        2.0  \n",
       "1         1.0       0.0             4.0        12.0           0.0        2.0  "
      ]
     },
     "metadata": {},
     "output_type": "display_data"
    },
    {
     "data": {
      "text/plain": [
       "1668"
      ]
     },
     "metadata": {},
     "output_type": "display_data"
    }
   ],
   "source": [
    "random.seed(422)\n",
    "torch.manual_seed(422)\n",
    "\n",
    "test_seeker = BlackboxSeeker(model=model, unfair_metric=unfair_metric, data_gen=adult_gen)\n",
    "# show_result(white_seeker.seek())\n",
    "for _ in range(1):\n",
    "    show_result(test_seeker.seek(origin_lr=2, max_query=2000, lamb=1))"
   ]
  },
  {
   "cell_type": "code",
   "execution_count": null,
   "metadata": {},
   "outputs": [],
   "source": []
  },
  {
   "cell_type": "code",
   "execution_count": null,
   "metadata": {},
   "outputs": [],
   "source": []
  }
 ],
 "metadata": {
  "kernelspec": {
   "display_name": "torch1.9",
   "language": "python",
   "name": "python3"
  },
  "language_info": {
   "codemirror_mode": {
    "name": "ipython",
    "version": 3
   },
   "file_extension": ".py",
   "mimetype": "text/x-python",
   "name": "python",
   "nbconvert_exporter": "python",
   "pygments_lexer": "ipython3",
   "version": "3.9.18"
  }
 },
 "nbformat": 4,
 "nbformat_minor": 2
}
